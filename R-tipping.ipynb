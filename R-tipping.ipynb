{
 "cells": [
  {
   "cell_type": "markdown",
   "id": "34bd6f55",
   "metadata": {},
   "source": [
    "Begin by importing necessary libraries."
   ]
  },
  {
   "cell_type": "code",
   "execution_count": 1,
   "id": "2f875609",
   "metadata": {},
   "outputs": [],
   "source": [
    "import numpy as np\n",
    "import matplotlib.pyplot as plt\n",
    "\n",
    "from ipywidgets import interact, interactive, fixed, interact_manual\n",
    "import ipywidgets as widgets"
   ]
  },
  {
   "cell_type": "markdown",
   "id": "3622c71d",
   "metadata": {},
   "source": [
    "Define numerical methods to solve ODEs"
   ]
  },
  {
   "cell_type": "code",
   "execution_count": 2,
   "id": "809cff14",
   "metadata": {},
   "outputs": [],
   "source": [
    "def EuMaR(func, lamb, X0, lamb0, r, params=None, tstart=0, tend=1, steps=10, sigma = 0.03):\n",
    "    \"\"\"\n",
    "    Euler-Maruyama Method for solving SDEs for R-tipping toy model.\n",
    "    \n",
    "    func := function, ex.dx/dt = ax + b == params[0] * x + params[1],\n",
    "    lamb := function, parameter for R-tipping toy model,\n",
    "    X0 := float, initial position,\n",
    "    lamb0 := float, initial lambda value,\n",
    "    r := numpy array, array of r values being inspected,\n",
    "    params := array, list of parameters for func,\n",
    "    tstart / tend := float, starting time / ending time,\n",
    "    steps := int, no. of iterations,\n",
    "    sigma := float, scale for amount of noise in system.\n",
    "    \"\"\"\n",
    "    \n",
    "    ## Initialise time vector\n",
    "    ##  Calculate dt for Euler Method\n",
    "    t = np.linspace(tstart,tend,steps)\n",
    "    dt = abs(t[0]-t[1])\n",
    "    \n",
    "    ## Init. solution vector.\n",
    "    ##  set initial value\n",
    "    sol = np.ones([steps])\n",
    "    sol[0] = X0\n",
    "    lamb_i = lamb0\n",
    "    \n",
    "    ## Begin Euler-Maruyama method\n",
    "    for i in range(1, steps):\n",
    "        params[0] = lamb_i\n",
    "        temp = sol[i-1] + func(sol[i-1], t=t[i-2], params=params) * dt +  sigma * np.random.random() * (np.random.randint(0,1)*2-1)\n",
    "        \n",
    "        \n",
    "        sol[i] = temp\n",
    "        lamb_i = lamb_i + lamb(r, t=t[i-2]) * dt\n",
    "        \n",
    "        ## Attempt to remedy float overflow\n",
    "        if temp > 0:\n",
    "            return sol, i\n",
    "        \n",
    "    ## Return Euler-Maruyama solution to SDE\n",
    "    return sol, i"
   ]
  },
  {
   "cell_type": "markdown",
   "id": "4884cc8e-e6e2-4487-a427-4dbb08f6bbb3",
   "metadata": {},
   "source": [
    "Defining 2-d ODE which can have an R-tipping point"
   ]
  },
  {
   "cell_type": "code",
   "execution_count": 3,
   "id": "f1d25117",
   "metadata": {},
   "outputs": [],
   "source": [
    "f = lambda x,t,params: (x + params[0])**2 - params[1]\n",
    "lamb = lambda r,t: r"
   ]
  },
  {
   "cell_type": "markdown",
   "id": "698036e4-b5e0-4654-a262-2628e3b89562",
   "metadata": {},
   "source": [
    "Interactable widget for looking at the shape of an R-tipping system."
   ]
  },
  {
   "cell_type": "code",
   "execution_count": 4,
   "id": "1675dc29",
   "metadata": {},
   "outputs": [
    {
     "data": {
      "application/vnd.jupyter.widget-view+json": {
       "model_id": "1582359fc5614bdb843cea64025f30be",
       "version_major": 2,
       "version_minor": 0
      },
      "text/plain": [
       "interactive(children=(FloatSlider(value=1.0, description='mu', max=2.0, step=0.01), FloatSlider(value=0.0, des…"
      ]
     },
     "metadata": {},
     "output_type": "display_data"
    }
   ],
   "source": [
    "@interact(mu=(0,2,0.01), rstart=(0,2,0.01), rend=(0,2,0.01), X0=(-2,2,0.1), lamb0=(-5,5,0.1), tend=(0,1000,1), dt=(0.01,2,0.01), sigma=(0,2,0.001), n=(10,200,10))\n",
    "def g(mu, X0, lamb0, rstart, rend,tend,dt,sigma,n):\n",
    "\n",
    "    r = np.linspace(rstart,rend,n)\n",
    "    \n",
    "    steps = int(tend/dt)\n",
    "    \n",
    "    params = np.array([lamb0, mu])\n",
    "    t = np.linspace(0,tend,steps)\n",
    "    tot = 0\n",
    "    for i in range(n):\n",
    "        a, end = EuMaR(f, lamb, X0, lamb0, r=r[i], params=params, tend=tend, steps=steps, sigma=sigma)\n",
    "\n",
    "        \n",
    "        plt.plot(t[:end], a[:end])\n",
    "\n",
    "    #plt.ylim(-3,2)\n",
    "    plt.xlim(1.5,3.6)\n",
    "    plt.show()"
   ]
  },
  {
   "cell_type": "markdown",
   "id": "a834107b-203e-4de6-8907-90e1d19205d1",
   "metadata": {},
   "source": [
    "# Generating R-tipping solutions"
   ]
  },
  {
   "cell_type": "markdown",
   "id": "86bf1f14-f42b-4f00-a637-425f92c57d5b",
   "metadata": {},
   "source": [
    "Follow mostly the same format as B-tipping"
   ]
  },
  {
   "cell_type": "code",
   "execution_count": 5,
   "id": "c64a74d2",
   "metadata": {},
   "outputs": [
    {
     "data": {
      "text/plain": [
       "62.0"
      ]
     },
     "execution_count": 5,
     "metadata": {},
     "output_type": "execute_result"
    }
   ],
   "source": [
    "P = 100 ## No. of samples\n",
    "\n",
    "## Initial parameters\n",
    "X0 = 0\n",
    "lamb0 = 0\n",
    "mu = 1.5\n",
    "params = np.array([lamb0, mu])\n",
    "\n",
    "## Define r range\n",
    "r = np.linspace(1.51,1.55,P)\n",
    "\n",
    "## Amount of noise in system\n",
    "sigma = 0.005\n",
    "\n",
    "\n",
    "tend = 100\n",
    "dt = 0.1\n",
    "steps = int(tend/dt)\n",
    "\n",
    "## Initialise data array\n",
    "data = np.zeros((P, steps+1))\n",
    "\n",
    "## Generate systems\n",
    "for i in range(P):\n",
    "    data[i,1:], end = EuMaR(f, lamb, X0, lamb0, r=r[i], params=params, tend=tend, steps=steps, sigma=sigma)\n",
    "    if end < steps-1:\n",
    "        data[i,0] = 1\n",
    "\n",
    "sum(data[:,0])"
   ]
  },
  {
   "cell_type": "markdown",
   "id": "47ac1b8e-dc15-445a-84de-dbd5688dd1d8",
   "metadata": {},
   "source": [
    "Saves solutions for `Deep Learning.ipynb`"
   ]
  },
  {
   "cell_type": "code",
   "execution_count": 6,
   "id": "8e334722-11fa-4de8-a920-6d2c0ed8b7fd",
   "metadata": {},
   "outputs": [],
   "source": [
    "np.savetxt(\"data_rtip.csv\", data, delimiter=',')"
   ]
  },
  {
   "cell_type": "markdown",
   "id": "750442f1-a475-427b-b733-6ec501937848",
   "metadata": {},
   "source": [
    "Interactable widget for user to look at solutions"
   ]
  },
  {
   "cell_type": "code",
   "execution_count": 7,
   "id": "66717de0",
   "metadata": {},
   "outputs": [
    {
     "data": {
      "application/vnd.jupyter.widget-view+json": {
       "model_id": "f08ce2fc2f28445bb637af48a4dad80e",
       "version_major": 2,
       "version_minor": 0
      },
      "text/plain": [
       "interactive(children=(IntSlider(value=49, description='k', max=99), Output()), _dom_classes=('widget-interact'…"
      ]
     },
     "metadata": {},
     "output_type": "display_data"
    }
   ],
   "source": [
    "@interact(k=(0,len(data)-1,1))\n",
    "def g(k):\n",
    "    plt.plot(data[k,1:])\n",
    "    plt.show()"
   ]
  }
 ],
 "metadata": {
  "kernelspec": {
   "display_name": "Python 3 (ipykernel)",
   "language": "python",
   "name": "python3"
  },
  "language_info": {
   "codemirror_mode": {
    "name": "ipython",
    "version": 3
   },
   "file_extension": ".py",
   "mimetype": "text/x-python",
   "name": "python",
   "nbconvert_exporter": "python",
   "pygments_lexer": "ipython3",
   "version": "3.9.7"
  }
 },
 "nbformat": 4,
 "nbformat_minor": 5
}
