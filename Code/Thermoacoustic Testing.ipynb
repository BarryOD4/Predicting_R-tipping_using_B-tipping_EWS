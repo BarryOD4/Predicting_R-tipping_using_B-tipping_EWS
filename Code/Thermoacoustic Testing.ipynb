{
 "cells": [
  {
   "cell_type": "markdown",
   "id": "b63c8b35-35df-4f90-a0b9-8b0ec63a3b6c",
   "metadata": {},
   "source": [
    "https://doi.pangaea.de/10.1594/PANGAEA.923197"
   ]
  },
  {
   "cell_type": "markdown",
   "id": "9ea134e7-c413-4679-97aa-5117108d5d6b",
   "metadata": {},
   "source": [
    "# Thermoacoustic predictions\n",
    "\n",
    "Further work can be achieved here."
   ]
  },
  {
   "cell_type": "code",
   "execution_count": 1,
   "id": "f68adafd",
   "metadata": {
    "tags": []
   },
   "outputs": [
    {
     "name": "stdout",
     "output_type": "stream",
     "text": [
      "2.10.0\n",
      "2.10.0\n"
     ]
    }
   ],
   "source": [
    "import tensorflow as tf\n",
    "from tensorflow.keras import layers\n",
    "import tensorflow.keras as keras\n",
    "\n",
    "# Helper libraries\n",
    "import numpy as np\n",
    "import matplotlib.pyplot as plt\n",
    "import pandas as pd\n",
    "from scipy.signal import find_peaks \n",
    "\n",
    "print(tf.__version__)\n",
    "print(tf.keras.__version__)\n",
    "\n",
    "\n",
    "from ipywidgets import interact, interactive, fixed, interact_manual\n",
    "import ipywidgets as widgets\n",
    "\n",
    "LSTM = keras.models.load_model('Neural Networks/lstm_model_thesis')\n",
    "CNN = keras.models.load_model('Neural Networks/cnn_model_thesis')\n"
   ]
  },
  {
   "cell_type": "code",
   "execution_count": 2,
   "id": "73d7c768",
   "metadata": {
    "tags": []
   },
   "outputs": [],
   "source": [
    "def var_data(dataset, window_size):\n",
    "    \"\"\"\n",
    "    Calculates moving variance on solution\n",
    "    \n",
    "    dataset := numpy array, expects form of (no. of solns, length of soln.)\n",
    "    window_size := int, size of moving window\n",
    "    \"\"\"\n",
    "    \n",
    "    ## Get shapes of dataset\n",
    "    n = dataset.shape[0]\n",
    "    m = dataset.shape[1]\n",
    "\n",
    "    ## Calculates the amount of steps needed to transfer over\n",
    "    ##  the solution\n",
    "    window_steps = m - window_size\n",
    "\n",
    "    ## Initiates array to hold data\n",
    "    var_dat = np.zeros((n,window_steps))\n",
    "\n",
    "    ## Begins moving window\n",
    "    for j in range(n):\n",
    "        for i in range(window_steps):\n",
    "            ## Calculates variance within window\n",
    "            var_dat[j,i] = dataset[j,i:window_size+i].var()\n",
    "    \n",
    "    ## Returns moving variance for user\n",
    "    return var_dat\n",
    "\n",
    "def auto_data(dataset, window_size, k=1):\n",
    "    \"\"\"\n",
    "    Calculates autocorrelation of solution\n",
    "    \n",
    "    dataset := numpy array, expects form of (no. of solns, length of soln.)\n",
    "    window_size := int, size of moving windows\n",
    "    k := int, time step lag between windows (k=1 == lag-1 AC)\n",
    "    \"\"\"\n",
    "    \n",
    "    ## Get shapes of dataset\n",
    "    n = dataset.shape[0]\n",
    "    m = dataset.shape[1]\n",
    "    \n",
    "    ## Calculates the amount of steps needed to transfer over\n",
    "    ##  the solution\n",
    "    window_steps = m - (window_size + k)\n",
    "\n",
    "    ## Initiates AC array\n",
    "    auto_dat = np.zeros((n,window_steps))\n",
    "\n",
    "    ## Begins moving window\n",
    "    for j in range(n):\n",
    "        ## Grabs initial window\n",
    "        a = dataset[j, 0 :  window_size]\n",
    "        for i in range(window_steps):\n",
    "            ## Grabs next window\n",
    "            b = dataset[j, i + k : i + k + window_size]\n",
    "            \n",
    "            ## Calculates the correlation of the windows\n",
    "            auto_dat[j,i] = np.corrcoef(a,b)[0,1]\n",
    "            \n",
    "            ## old window becomes new window\n",
    "            a = b\n",
    "    \n",
    "    # Returns AC to user\n",
    "    return auto_dat\n",
    "\n",
    "def trim_data(var, auto, labels, tol, tol1):\n",
    "    \"\"\"\n",
    "    Trims B-tipping data for user. Uses peak in variance as \n",
    "        indication that we have passed a tipping point.\n",
    "    \n",
    "    var := numpy array, an array containing all the variance data for some solution\n",
    "    auto := numpy array, ''''' AC data ''' \n",
    "    labels := numpy array, ''' the labels for some solution\n",
    "    tol := int, the amount of values required before max variance has occurred\n",
    "    tol1 := int, how close to peak in variance we need\n",
    "    \"\"\"\n",
    "    \n",
    "    ## Initiates 3 temporary lists\n",
    "    temp1 = []\n",
    "    temp2 = []\n",
    "    temp3 = []\n",
    "\n",
    "    ## Begins loop to trim datasets\n",
    "    for i in range(len(var)):\n",
    "        \n",
    "        ## Finds peak in variance\n",
    "        end = np.argmax(var[i])\n",
    "        \n",
    "        ## Finds starting position for data trimming\n",
    "        start = end-tol\n",
    "\n",
    "        ## If peak has 'tol' values before it\n",
    "        if start > 0:\n",
    "            \n",
    "            ## Appends the new trimmed sets to their repsective list\n",
    "            temp1.append(var[i,start:end-tol1])\n",
    "            temp2.append(auto[i,start:end-tol1])\n",
    "            temp3.append(labels[i])\n",
    "            \n",
    "    ## Returns trimmed data to user\n",
    "    return np.array(temp1), np.array(temp2), np.array(temp3) \n",
    "\n",
    "def trim_r_data(var, auto, labels, tol, tol1):\n",
    "    \"\"\"\n",
    "    Trims R-tipping data for user. Uses peak in variance as \n",
    "        indication that we have passed a tipping point.\n",
    "    \n",
    "    var := numpy array, an array containing all the variance data for some solution\n",
    "    auto := numpy array, ''''' AC data ''' \n",
    "    labels := numpy array, ''' the labels for some solution\n",
    "    tol := int, the amount of values required before max variance has occurred\n",
    "    tol1 := int, how close to peak in variance we need\n",
    "    \"\"\"\n",
    "    \n",
    "    temp1 = []\n",
    "    temp2 = []\n",
    "    temp3 = []\n",
    "\n",
    "    for i in range(len(var)):\n",
    "        ## If solution tips...\n",
    "        if labels[i] == 1:\n",
    "            ## Finds peak in variance\n",
    "            end = np.argmax(var[i])\n",
    "\n",
    "            ## Finds starting position for data trimming\n",
    "            start = end-tol\n",
    "\n",
    "            ## If peak has 'tol' values before it\n",
    "            if start > 0:\n",
    "\n",
    "                ## Appends the new trimmed sets to their repsective list\n",
    "                temp1.append(var[i,start:end-tol1])\n",
    "                temp2.append(auto[i,start:end-tol1])\n",
    "                temp3.append(labels[i])\n",
    "\n",
    "        ## Else, solution never tipped, peak in variance poor indicator\n",
    "        ##  for data collection\n",
    "        else:\n",
    "            ## Take final values instead\n",
    "            end = -1\n",
    "            start = end-tol\n",
    "            \n",
    "            temp1.append(var[i,start:end-tol1])\n",
    "            temp2.append(auto[i,start:end-tol1])\n",
    "            temp3.append(labels[i])\n",
    "\n",
    "    ## Returns trimmed dataset for the user\n",
    "    return np.array(temp1), np.array(temp2), np.array(temp3)\n",
    "\n",
    "def z_score_norm(data):\n",
    "    \"\"\"\n",
    "    Min-Max normalisation method\n",
    "    \n",
    "    data := numpy array, contains a collection of sequences of data\n",
    "    \"\"\"\n",
    "    \n",
    "    ## Initiates array for user\n",
    "    z_score_data = np.zeros(data.shape)\n",
    "    \n",
    "    ## Calculates Z-score norm for user\n",
    "    for i in range(data.shape[0]):\n",
    "        mean_data = data[i].mean()\n",
    "        std_data = data[i].std()\n",
    "        z_score_data[i] = (data[i] - mean_data) / std_data\n",
    "    \n",
    "    ## Returns normalised data\n",
    "    return z_score_data\n",
    "\n",
    "\n",
    "def moving_average(x, w):\n",
    "    return np.convolve(x, np.ones(w), 'valid') / w"
   ]
  },
  {
   "cell_type": "code",
   "execution_count": 3,
   "id": "249981d1",
   "metadata": {},
   "outputs": [],
   "source": [
    "def create_time_series(data, steps_back=5, steps_forward=1, features = 2):\n",
    "    \"\"\"Creates time series from set of data.\n",
    "        Takes in sample of data, creates time series of final (step_forward + step_back) steps.\n",
    "        \n",
    "        data := array, has form (# samples, # features, # time steps)\n",
    "        steps_back, steps_forward := int, amount of steps_back used to guess steps_forward\n",
    "        features := amount of features present in the data (ex. variance and autocorrelation)\n",
    "        \n",
    "        Returns 2 arrays, where 'X' consists of (t-step_back, ..., t-1)\n",
    "                                'y' consists of (t)\n",
    "        \"\"\"\n",
    "    \n",
    "    ## Initialise arrays for data\n",
    "    ##  Has shape (sample, timesteps, features)\n",
    "    X = np.zeros((data.shape[0],steps_back,features))\n",
    "    y = np.zeros((data.shape[0],steps_forward,features))\n",
    "    \n",
    "    ## Begin loop for each sample\n",
    "    for i in range(data.shape[0]):\n",
    "        ## ... and each feature\n",
    "        for j in range(features):\n",
    "            X[i,:,j] = data[i,j,-(steps_back+steps_forward):-steps_forward]\n",
    "            y[i,:,j] = data[i,j,-steps_forward:]\n",
    "    \n",
    "    return X,y"
   ]
  },
  {
   "cell_type": "code",
   "execution_count": 4,
   "id": "109bce96",
   "metadata": {},
   "outputs": [],
   "source": [
    "def show_pred(inp, actual, save_as=None):\n",
    "    \n",
    "    if len(inp.shape) != 3:\n",
    "        inp = inp.reshape(1,inp.shape[0],inp.shape[1])\n",
    "    \n",
    "    if len(actual.shape) != 3:\n",
    "        actual = actual.reshape(1,actual.shape[0],actual.shape[1])\n",
    "    \n",
    "    plt.figure(figsize=(10,5))\n",
    "    res = LSTM.predict(inp, verbose=0)\n",
    "    n = inp.shape[1]\n",
    "    \n",
    "    \n",
    "    plt.subplot(1,2,1)\n",
    "    plt.plot(inp[0,:,0], label='Input data')\n",
    "    plt.plot(n, res[0,0,0], 'ro', label='Predicted Value')\n",
    "    plt.plot(n, actual[0,0,0], 'gs', label='True Value')\n",
    "    plt.plot(0,0, 'k.', alpha=0, label = 'Probability of tipping = ' + str(predict_bifur(inp)))\n",
    "    \n",
    "    for i in range(1, res.shape[1]):\n",
    "        plt.plot([n+i, n+i], [res[0,i,0], actual[0,i,0]], '0.8')\n",
    "        plt.plot(n+i, res[0,i,0], 'ro')\n",
    "        plt.plot(n+i, actual[0,i,0], 'gs')\n",
    "    \n",
    "    plt.xlabel('Time', fontsize=17)\n",
    "    plt.ylabel('Variance', fontsize=17)\n",
    "\n",
    "    \n",
    "    #plt.ylim(0,1)\n",
    "    plt.legend()\n",
    "    \n",
    "    \n",
    "    \n",
    "    plt.subplot(1,2,2)\n",
    "    plt.plot(inp[0,:,1], label='Input data')\n",
    "    \n",
    "    plt.plot(n, res[0,0,1], 'ro')\n",
    "    plt.plot(n, actual[0,0,1], 'gs')\n",
    "    \n",
    "    for i in range(1, res.shape[1]):\n",
    "        plt.plot([n+i, n+i], [res[0,i,1], actual[0,i,1]], '0.8')\n",
    "        plt.plot(n+i, res[0,i,1], 'ro')\n",
    "        plt.plot(n+i, actual[0,i,1], 'gs')\n",
    "    \n",
    "    plt.xlabel('Time', fontsize=17)\n",
    "    plt.ylabel('AC', fontsize=17)\n",
    "    \n",
    "    \n",
    "    plt.ylim(-1.1,1.1)\n",
    "    \n",
    "    if save_as != None:\n",
    "        plt.savefig(save_as, dpi=300)\n",
    "    \n",
    "    plt.show()"
   ]
  },
  {
   "cell_type": "code",
   "execution_count": 5,
   "id": "7292825e",
   "metadata": {},
   "outputs": [],
   "source": [
    "def predict_bifur(time_series):\n",
    "    \n",
    "    if len(time_series.shape) != 3:\n",
    "        time_series = time_series.reshape(1,time_series.shape[0],time_series.shape[1])\n",
    "    LSTM_pred = LSTM.predict(time_series, verbose=0)\n",
    "    CNN_pred = CNN.predict(LSTM_pred, verbose=0)\n",
    "    \n",
    "    return CNN_pred[0,0]"
   ]
  },
  {
   "cell_type": "code",
   "execution_count": 6,
   "id": "0068d328",
   "metadata": {},
   "outputs": [
    {
     "data": {
      "text/html": [
       "<div>\n",
       "<style scoped>\n",
       "    .dataframe tbody tr th:only-of-type {\n",
       "        vertical-align: middle;\n",
       "    }\n",
       "\n",
       "    .dataframe tbody tr th {\n",
       "        vertical-align: top;\n",
       "    }\n",
       "\n",
       "    .dataframe thead th {\n",
       "        text-align: right;\n",
       "    }\n",
       "</style>\n",
       "<table border=\"1\" class=\"dataframe\">\n",
       "  <thead>\n",
       "    <tr style=\"text-align: right;\">\n",
       "      <th></th>\n",
       "      <th>Age [ka BP]</th>\n",
       "      <th>Depth [m]</th>\n",
       "      <th>Al [mg/kg]</th>\n",
       "      <th>Ba [mg/kg]</th>\n",
       "      <th>Mo [mg/kg]</th>\n",
       "      <th>Ti [mg/kg]</th>\n",
       "      <th>U [mg/kg]</th>\n",
       "    </tr>\n",
       "  </thead>\n",
       "  <tbody>\n",
       "    <tr>\n",
       "      <th>0</th>\n",
       "      <td>10.060</td>\n",
       "      <td>0.011</td>\n",
       "      <td>62571.901</td>\n",
       "      <td>808.441</td>\n",
       "      <td>10.112</td>\n",
       "      <td>4364.288</td>\n",
       "      <td>7.590</td>\n",
       "    </tr>\n",
       "    <tr>\n",
       "      <th>1</th>\n",
       "      <td>10.097</td>\n",
       "      <td>0.012</td>\n",
       "      <td>61456.711</td>\n",
       "      <td>787.014</td>\n",
       "      <td>8.261</td>\n",
       "      <td>4185.859</td>\n",
       "      <td>8.060</td>\n",
       "    </tr>\n",
       "    <tr>\n",
       "      <th>2</th>\n",
       "      <td>10.134</td>\n",
       "      <td>0.013</td>\n",
       "      <td>58475.228</td>\n",
       "      <td>697.289</td>\n",
       "      <td>11.415</td>\n",
       "      <td>4338.507</td>\n",
       "      <td>4.333</td>\n",
       "    </tr>\n",
       "    <tr>\n",
       "      <th>3</th>\n",
       "      <td>10.170</td>\n",
       "      <td>0.014</td>\n",
       "      <td>57720.503</td>\n",
       "      <td>611.615</td>\n",
       "      <td>11.234</td>\n",
       "      <td>4161.578</td>\n",
       "      <td>7.184</td>\n",
       "    </tr>\n",
       "    <tr>\n",
       "      <th>4</th>\n",
       "      <td>10.207</td>\n",
       "      <td>0.015</td>\n",
       "      <td>57393.947</td>\n",
       "      <td>510.784</td>\n",
       "      <td>6.970</td>\n",
       "      <td>4305.302</td>\n",
       "      <td>8.979</td>\n",
       "    </tr>\n",
       "  </tbody>\n",
       "</table>\n",
       "</div>"
      ],
      "text/plain": [
       "   Age [ka BP]  Depth [m]  Al [mg/kg]  Ba [mg/kg]  Mo [mg/kg]  Ti [mg/kg]  \\\n",
       "0       10.060      0.011   62571.901     808.441      10.112    4364.288   \n",
       "1       10.097      0.012   61456.711     787.014       8.261    4185.859   \n",
       "2       10.134      0.013   58475.228     697.289      11.415    4338.507   \n",
       "3       10.170      0.014   57720.503     611.615      11.234    4161.578   \n",
       "4       10.207      0.015   57393.947     510.784       6.970    4305.302   \n",
       "\n",
       "   U [mg/kg]  \n",
       "0      7.590  \n",
       "1      8.060  \n",
       "2      4.333  \n",
       "3      7.184  \n",
       "4      8.979  "
      ]
     },
     "execution_count": 6,
     "metadata": {},
     "output_type": "execute_result"
    }
   ],
   "source": [
    "df = pd.read_csv('Datasets/Hennekam-etal_2020/datasets/64PE406-E1_calibratedXRF.tab', sep='\\t',skiprows=18)\n",
    "\n",
    "df.head()"
   ]
  },
  {
   "cell_type": "code",
   "execution_count": 7,
   "id": "8a20dcde",
   "metadata": {},
   "outputs": [
    {
     "data": {
      "image/png": "[encoded data removed]",
      "text/plain": [
       "<Figure size 1080x576 with 7 Axes>"
      ]
     },
     "metadata": {
      "needs_background": "light"
     },
     "output_type": "display_data"
    }
   ],
   "source": [
    "plt.figure(figsize=(15,8))\n",
    "\n",
    "for i in range(len(df.keys())):\n",
    "    plt.subplot(2,4,i+1)\n",
    "    arr = np.asarray(df[df.keys()[i]])\n",
    "    plt.title(df.keys()[i])\n",
    "\n",
    "    plt.plot(arr)"
   ]
  },
  {
   "cell_type": "markdown",
   "id": "687fcb82",
   "metadata": {},
   "source": [
    "___"
   ]
  },
  {
   "cell_type": "markdown",
   "id": "877615a8",
   "metadata": {
    "tags": []
   },
   "source": [
    "## 64PE406-E1_calibratedXRF.tab"
   ]
  },
  {
   "cell_type": "code",
   "execution_count": 8,
   "id": "6b64a322",
   "metadata": {},
   "outputs": [
    {
     "data": {
      "text/html": [
       "<div>\n",
       "<style scoped>\n",
       "    .dataframe tbody tr th:only-of-type {\n",
       "        vertical-align: middle;\n",
       "    }\n",
       "\n",
       "    .dataframe tbody tr th {\n",
       "        vertical-align: top;\n",
       "    }\n",
       "\n",
       "    .dataframe thead th {\n",
       "        text-align: right;\n",
       "    }\n",
       "</style>\n",
       "<table border=\"1\" class=\"dataframe\">\n",
       "  <thead>\n",
       "    <tr style=\"text-align: right;\">\n",
       "      <th></th>\n",
       "      <th>Al [mg/kg]</th>\n",
       "      <th>Ba [mg/kg]</th>\n",
       "      <th>Mo [mg/kg]</th>\n",
       "      <th>Ti [mg/kg]</th>\n",
       "      <th>U [mg/kg]</th>\n",
       "    </tr>\n",
       "  </thead>\n",
       "  <tbody>\n",
       "    <tr>\n",
       "      <th>0</th>\n",
       "      <td>62571.901</td>\n",
       "      <td>808.441</td>\n",
       "      <td>10.112</td>\n",
       "      <td>4364.288</td>\n",
       "      <td>7.590</td>\n",
       "    </tr>\n",
       "    <tr>\n",
       "      <th>1</th>\n",
       "      <td>61456.711</td>\n",
       "      <td>787.014</td>\n",
       "      <td>8.261</td>\n",
       "      <td>4185.859</td>\n",
       "      <td>8.060</td>\n",
       "    </tr>\n",
       "    <tr>\n",
       "      <th>2</th>\n",
       "      <td>58475.228</td>\n",
       "      <td>697.289</td>\n",
       "      <td>11.415</td>\n",
       "      <td>4338.507</td>\n",
       "      <td>4.333</td>\n",
       "    </tr>\n",
       "    <tr>\n",
       "      <th>3</th>\n",
       "      <td>57720.503</td>\n",
       "      <td>611.615</td>\n",
       "      <td>11.234</td>\n",
       "      <td>4161.578</td>\n",
       "      <td>7.184</td>\n",
       "    </tr>\n",
       "    <tr>\n",
       "      <th>4</th>\n",
       "      <td>57393.947</td>\n",
       "      <td>510.784</td>\n",
       "      <td>6.970</td>\n",
       "      <td>4305.302</td>\n",
       "      <td>8.979</td>\n",
       "    </tr>\n",
       "  </tbody>\n",
       "</table>\n",
       "</div>"
      ],
      "text/plain": [
       "   Al [mg/kg]  Ba [mg/kg]  Mo [mg/kg]  Ti [mg/kg]  U [mg/kg]\n",
       "0   62571.901     808.441      10.112    4364.288      7.590\n",
       "1   61456.711     787.014       8.261    4185.859      8.060\n",
       "2   58475.228     697.289      11.415    4338.507      4.333\n",
       "3   57720.503     611.615      11.234    4161.578      7.184\n",
       "4   57393.947     510.784       6.970    4305.302      8.979"
      ]
     },
     "execution_count": 8,
     "metadata": {},
     "output_type": "execute_result"
    }
   ],
   "source": [
    "df = pd.read_csv('Datasets/Hennekam-etal_2020/datasets/64PE406-E1_calibratedXRF.tab', sep='\\t',skiprows=18)\n",
    "df.pop('Age [ka BP]')\n",
    "df.pop('Depth [m]')\n",
    "df.head()"
   ]
  },
  {
   "cell_type": "code",
   "execution_count": 9,
   "id": "db4f5a46",
   "metadata": {},
   "outputs": [
    {
     "data": {
      "text/html": [
       "<div>\n",
       "<style scoped>\n",
       "    .dataframe tbody tr th:only-of-type {\n",
       "        vertical-align: middle;\n",
       "    }\n",
       "\n",
       "    .dataframe tbody tr th {\n",
       "        vertical-align: top;\n",
       "    }\n",
       "\n",
       "    .dataframe thead th {\n",
       "        text-align: right;\n",
       "    }\n",
       "</style>\n",
       "<table border=\"1\" class=\"dataframe\">\n",
       "  <thead>\n",
       "    <tr style=\"text-align: right;\">\n",
       "      <th></th>\n",
       "      <th>Al [mg/kg]</th>\n",
       "      <th>Ba [mg/kg]</th>\n",
       "      <th>Mo [mg/kg]</th>\n",
       "      <th>Ti [mg/kg]</th>\n",
       "      <th>U [mg/kg]</th>\n",
       "    </tr>\n",
       "  </thead>\n",
       "  <tbody>\n",
       "    <tr>\n",
       "      <th>0</th>\n",
       "      <td>0.579584</td>\n",
       "      <td>0.341934</td>\n",
       "      <td>0.034150</td>\n",
       "      <td>0.326982</td>\n",
       "      <td>0.075041</td>\n",
       "    </tr>\n",
       "    <tr>\n",
       "      <th>1</th>\n",
       "      <td>0.558616</td>\n",
       "      <td>0.331825</td>\n",
       "      <td>0.027566</td>\n",
       "      <td>0.297027</td>\n",
       "      <td>0.079836</td>\n",
       "    </tr>\n",
       "    <tr>\n",
       "      <th>2</th>\n",
       "      <td>0.502557</td>\n",
       "      <td>0.289495</td>\n",
       "      <td>0.038784</td>\n",
       "      <td>0.322654</td>\n",
       "      <td>0.041811</td>\n",
       "    </tr>\n",
       "    <tr>\n",
       "      <th>3</th>\n",
       "      <td>0.488366</td>\n",
       "      <td>0.249077</td>\n",
       "      <td>0.038140</td>\n",
       "      <td>0.292950</td>\n",
       "      <td>0.070899</td>\n",
       "    </tr>\n",
       "    <tr>\n",
       "      <th>4</th>\n",
       "      <td>0.482226</td>\n",
       "      <td>0.201507</td>\n",
       "      <td>0.022974</td>\n",
       "      <td>0.317079</td>\n",
       "      <td>0.089213</td>\n",
       "    </tr>\n",
       "  </tbody>\n",
       "</table>\n",
       "</div>"
      ],
      "text/plain": [
       "   Al [mg/kg]  Ba [mg/kg]  Mo [mg/kg]  Ti [mg/kg]  U [mg/kg]\n",
       "0    0.579584    0.341934    0.034150    0.326982   0.075041\n",
       "1    0.558616    0.331825    0.027566    0.297027   0.079836\n",
       "2    0.502557    0.289495    0.038784    0.322654   0.041811\n",
       "3    0.488366    0.249077    0.038140    0.292950   0.070899\n",
       "4    0.482226    0.201507    0.022974    0.317079   0.089213"
      ]
     },
     "execution_count": 9,
     "metadata": {},
     "output_type": "execute_result"
    }
   ],
   "source": [
    "## Min-Max Normalisation\n",
    "df=(df-df.min())/(df.max()-df.min())\n",
    "\n",
    "df.head()"
   ]
  },
  {
   "cell_type": "code",
   "execution_count": 10,
   "id": "e5316296",
   "metadata": {},
   "outputs": [
    {
     "data": {
      "text/plain": [
       "[<matplotlib.lines.Line2D at 0x1f1d634ebe0>]"
      ]
     },
     "execution_count": 10,
     "metadata": {},
     "output_type": "execute_result"
    },
    {
     "data": {
      "image/png": "[encoded data removed]",
      "text/plain": [
       "<Figure size 432x288 with 1 Axes>"
      ]
     },
     "metadata": {
      "needs_background": "light"
     },
     "output_type": "display_data"
    }
   ],
   "source": [
    "a = np.asarray(df['Mo [mg/kg]'])\n",
    "a = moving_average(a, 100)\n",
    "\n",
    "peaks, _ = find_peaks(a, distance=100)\n",
    "\n",
    "peaks = peaks[peaks>300]\n",
    "peaks = peaks[peaks<7000]\n",
    "plt.plot(a)\n",
    "plt.plot(peaks, a[peaks], 'rx')"
   ]
  },
  {
   "cell_type": "markdown",
   "id": "97d0ee40-2010-4dee-9416-b5671fc0665d",
   "metadata": {},
   "source": [
    "## Single Peaks"
   ]
  },
  {
   "cell_type": "code",
   "execution_count": 11,
   "id": "63d77a5a-7abf-46e5-855d-770d216b4264",
   "metadata": {},
   "outputs": [
    {
     "data": {
      "text/plain": [
       "(array([ 343,  524,  639,  742,  886, 1086, 1190, 1317, 1420, 1548, 1651,\n",
       "        1808, 1946, 2054, 2188, 2299, 2401, 2552, 2660, 2781, 2884, 3016,\n",
       "        3126, 3230, 3427, 3647, 3755, 3884, 3997, 4210, 4314, 4511, 4612,\n",
       "        4726, 4921, 5101, 5201, 5366, 5499, 5676, 5781, 5918, 6077, 6239,\n",
       "        6370, 6473, 6574, 6691, 6794, 6915], dtype=int64),\n",
       " (50,))"
      ]
     },
     "execution_count": 11,
     "metadata": {},
     "output_type": "execute_result"
    }
   ],
   "source": [
    "peaks, peaks.shape"
   ]
  },
  {
   "cell_type": "code",
   "execution_count": 12,
   "id": "4c37df92-58e7-42e8-b0a0-e7402e0ff8f0",
   "metadata": {},
   "outputs": [],
   "source": [
    "before = 300\n",
    "after = 25\n",
    "size = before+after\n",
    "\n",
    "dataset = np.zeros((peaks.shape[0],size))\n",
    "\n",
    "for i in range(peaks.shape[0]):\n",
    "    dataset[i] = a[peaks[i]-before: peaks[i]+after]"
   ]
  },
  {
   "cell_type": "code",
   "execution_count": 13,
   "id": "41d780b8-f648-4e27-af25-c3cc6240e41a",
   "metadata": {},
   "outputs": [
    {
     "data": {
      "image/png": "[encoded data removed]",
      "text/plain": [
       "<Figure size 432x288 with 1 Axes>"
      ]
     },
     "metadata": {
      "needs_background": "light"
     },
     "output_type": "display_data"
    }
   ],
   "source": [
    "dif = before+after\n",
    "t = np.linspace(0,peaks.shape[0]*size-1,peaks.shape[0]*size)\n",
    "for i in range(dataset.shape[0]):\n",
    "    plt.plot(t[i*dif:(i+1)*dif], dataset[i])"
   ]
  },
  {
   "cell_type": "code",
   "execution_count": 14,
   "id": "d5484121-c352-466e-aadd-bd549ed0d202",
   "metadata": {},
   "outputs": [
    {
     "data": {
      "image/png": "[encoded data removed]",
      "text/plain": [
       "<Figure size 432x288 with 1 Axes>"
      ]
     },
     "metadata": {
      "needs_background": "light"
     },
     "output_type": "display_data"
    }
   ],
   "source": [
    "n = int(dataset.shape[1] * 0.1)\n",
    "\n",
    "var_dat = var_data(dataset, n)\n",
    "auto_dat = auto_data(dataset, n-1)\n",
    "\n",
    "dif = var_dat.shape[1]\n",
    "for i in range(dataset.shape[0]):\n",
    "    plt.plot(t[i*dif:(i+1)*dif], var_dat[i])"
   ]
  },
  {
   "cell_type": "code",
   "execution_count": 15,
   "id": "5d2a7067-eed7-4d9c-adbf-ec8f8f2dcdfb",
   "metadata": {},
   "outputs": [
    {
     "data": {
      "text/plain": [
       "(21, 100)"
      ]
     },
     "execution_count": 15,
     "metadata": {},
     "output_type": "execute_result"
    }
   ],
   "source": [
    "tol = 135\n",
    "tol1 = 35\n",
    "\n",
    "temp1 = []\n",
    "temp2 = []\n",
    "\n",
    "for i in range(len(var_dat)):\n",
    "    end = np.argmax(var_dat[i])\n",
    "    start = end-tol\n",
    "    \n",
    "    if start > 0:\n",
    "        temp1.append(var_dat[i,start:end-tol1])\n",
    "        temp2.append(auto_dat[i,start:end-tol1])\n",
    "        \n",
    "trimmed_var = np.array(temp1)\n",
    "trimmed_auto = np.array(temp2)\n",
    "\n",
    "trimmed_var.shape"
   ]
  },
  {
   "cell_type": "code",
   "execution_count": 16,
   "id": "2b95af78-3f15-4a93-ade5-2a782b5132f8",
   "metadata": {},
   "outputs": [],
   "source": [
    "normalised_var = z_score_norm(trimmed_var)"
   ]
  },
  {
   "cell_type": "code",
   "execution_count": 17,
   "id": "34f7302d-e3ad-4e1e-b2db-0c448995e785",
   "metadata": {},
   "outputs": [
    {
     "data": {
      "text/plain": [
       "((21, 2, 100),\n",
       " array([-1.03245135, -1.04543296, -1.04614379, -1.04344342, -1.03150321,\n",
       "        -1.02036104, -1.02463644, -1.03216833, -1.03649357, -1.03682139]),\n",
       " array([0.72741744, 0.74832031, 0.75061911, 0.75350002, 0.78516745,\n",
       "        0.79611865, 0.78828985, 0.77536297, 0.76780725, 0.78005959]),\n",
       " array([-1.03245135, -1.04543296, -1.04614379, -1.04344342, -1.03150321,\n",
       "        -1.02036104, -1.02463644, -1.03216833, -1.03649357, -1.03682139]),\n",
       " array([0.72741744, 0.74832031, 0.75061911, 0.75350002, 0.78516745,\n",
       "        0.79611865, 0.78828985, 0.77536297, 0.76780725, 0.78005959]))"
      ]
     },
     "execution_count": 17,
     "metadata": {},
     "output_type": "execute_result"
    }
   ],
   "source": [
    "data = np.zeros((normalised_var.shape[0], 2, normalised_var.shape[1]))\n",
    "\n",
    "for i in range(trimmed_var.shape[0]):\n",
    "    data[i,0] = normalised_var[i]\n",
    "    data[i,1] = trimmed_auto[i]\n",
    "\n",
    "data.shape, normalised_var[0,:10], trimmed_auto[0,:10], data[0,0,0:10], data[0,1,0:10]"
   ]
  },
  {
   "cell_type": "code",
   "execution_count": 18,
   "id": "58075d01-5fc6-40e9-8028-37765202f80c",
   "metadata": {},
   "outputs": [],
   "source": [
    "steps_back = 85\n",
    "steps_forward = 15\n",
    "features = data.shape[1]\n",
    "\n",
    "X, y = create_time_series(data, steps_back, steps_forward, features)"
   ]
  },
  {
   "cell_type": "code",
   "execution_count": 19,
   "id": "123f9fc3-22b7-4450-b138-bb0f2fe2d261",
   "metadata": {},
   "outputs": [
    {
     "data": {
      "image/png": "[encoded data removed]",
      "text/plain": [
       "<Figure size 432x288 with 1 Axes>"
      ]
     },
     "metadata": {
      "needs_background": "light"
     },
     "output_type": "display_data"
    }
   ],
   "source": [
    "dif = tol - tol1\n",
    "for i in range(trimmed_var.shape[0]):\n",
    "    plt.plot(t[i*dif:(i+1)*dif], normalised_var[i])"
   ]
  },
  {
   "cell_type": "code",
   "execution_count": 20,
   "id": "56dd5e97-ab37-47ce-8743-391919a6c330",
   "metadata": {},
   "outputs": [
    {
     "data": {
      "application/vnd.jupyter.widget-view+json": {
       "model_id": "abf9730c4d3b4aebacef0cd01156dc90",
       "version_major": 2,
       "version_minor": 0
      },
      "text/plain": [
       "interactive(children=(IntSlider(value=10, description='k', max=20), Output()), _dom_classes=('widget-interact'…"
      ]
     },
     "metadata": {},
     "output_type": "display_data"
    }
   ],
   "source": [
    "@interact(k=(0,len(y)-1,1))\n",
    "def g(k):\n",
    "    show_pred(X[k], y[k])"
   ]
  },
  {
   "cell_type": "code",
   "execution_count": 21,
   "id": "4334ab01-a9c3-4df3-ba87-da0574b79f71",
   "metadata": {},
   "outputs": [
    {
     "name": "stdout",
     "output_type": "stream",
     "text": [
      "1/1 [==============================] - 1s 646ms/step - loss: 0.4432\n"
     ]
    },
    {
     "data": {
      "text/plain": [
       "0.4432029724121094"
      ]
     },
     "execution_count": 21,
     "metadata": {},
     "output_type": "execute_result"
    }
   ],
   "source": [
    "LSTM.evaluate(X, y, verbose=1)"
   ]
  },
  {
   "cell_type": "markdown",
   "id": "6f46deb9-5eae-44ec-a73a-4835c8f380a1",
   "metadata": {},
   "source": [
    "_____"
   ]
  },
  {
   "cell_type": "markdown",
   "id": "7d7fb4be-8db1-40df-8d7a-2322db49c0ad",
   "metadata": {},
   "source": [
    "## Continuous Data"
   ]
  },
  {
   "cell_type": "code",
   "execution_count": 22,
   "id": "48093e09-2a8a-479b-a9b6-c5f18e879943",
   "metadata": {},
   "outputs": [
    {
     "data": {
      "text/plain": [
       "((6473, 2, 100),\n",
       " array([-1.5171657 , -1.8046385 , -2.02593057, -2.19738872, -2.30052749,\n",
       "        -2.34794896, -2.36220791, -2.31208945, -2.24361829, -2.16369485]),\n",
       " array([0.72741744, 0.74832031, 0.75061911, 0.75350002, 0.78516745,\n",
       "        0.79611865, 0.78828985, 0.77536297, 0.76780725, 0.78005959]),\n",
       " array([-1.5171657 , -1.8046385 , -2.02593057, -2.19738872, -2.30052749,\n",
       "        -2.34794896, -2.36220791, -2.31208945, -2.24361829, -2.16369485]),\n",
       " array([0.9991277 , 0.99914913, 0.9991611 , 0.99919511, 0.99923079,\n",
       "        0.99924501, 0.99932275, 0.99933472, 0.99934065, 0.99936647]))"
      ]
     },
     "execution_count": 22,
     "metadata": {},
     "output_type": "execute_result"
    }
   ],
   "source": [
    "a_alt = a.reshape((1,a.shape[0]))\n",
    "\n",
    "window_size = 1000\n",
    "\n",
    "full_var = var_data(a_alt, window_size)\n",
    "full_auto = auto_data(a_alt, window_size-1)\n",
    "\n",
    "var_continuous = np.zeros((full_var.shape[1]-100, 100))\n",
    "auto_continuous = np.zeros((full_var.shape[1]-100, 100))\n",
    "\n",
    "for i in range(full_var.shape[1]-100):\n",
    "    var_continuous[i] = full_var[0,i:i+100]\n",
    "    auto_continuous[i] = full_auto[0,i:i+100]\n",
    "    \n",
    "normalised_var_cont = z_score_norm(var_continuous)\n",
    "\n",
    "data = np.zeros((normalised_var_cont.shape[0], 2, normalised_var_cont.shape[1]))\n",
    "\n",
    "for i in range(normalised_var_cont.shape[0]):\n",
    "    data[i,0] = normalised_var_cont[i]\n",
    "    data[i,1] = auto_continuous[i]\n",
    "\n",
    "data.shape, normalised_var_cont[0,:10], trimmed_auto[0,:10], data[0,0,0:10], data[0,1,0:10]\n"
   ]
  },
  {
   "cell_type": "code",
   "execution_count": 23,
   "id": "c45b4ffa-cbfd-4a4d-bede-3c57040da97e",
   "metadata": {},
   "outputs": [],
   "source": [
    "steps_back = 85\n",
    "steps_forward = 15\n",
    "features = data.shape[1]\n",
    "\n",
    "X, y = create_time_series(data, steps_back, steps_forward, features)"
   ]
  },
  {
   "cell_type": "code",
   "execution_count": 24,
   "id": "f0fe4d27-93c6-4023-b012-6fc028d690f0",
   "metadata": {},
   "outputs": [],
   "source": [
    "preds = np.zeros((X.shape[0]))\n",
    "\n",
    "for i in range(X.shape[0]):\n",
    "    preds[i] = predict_bifur(X[i])"
   ]
  },
  {
   "cell_type": "code",
   "execution_count": 25,
   "id": "e29ade0a-08f2-48e3-84d1-d83c5221b246",
   "metadata": {},
   "outputs": [
    {
     "data": {
      "image/png": "[encoded data removed]",
      "text/plain": [
       "<Figure size 504x360 with 2 Axes>"
      ]
     },
     "metadata": {
      "needs_background": "light"
     },
     "output_type": "display_data"
    }
   ],
   "source": [
    "t = np.linspace(window_size, a.shape[0], preds.shape[0])\n",
    "\n",
    "\n",
    "plt.figure(figsize=(7,5))\n",
    "plt.subplot(2,1,1)\n",
    "plt.plot(a, 'k')\n",
    "plt.ylabel('Mo (ppm)', fontsize=17)\n",
    "plt.yticks(np.arange(0,1,0.5), fontsize=14)\n",
    "\n",
    "plt.subplot(2,1,2)\n",
    "plt.axhline(0.5, color='k', alpha=0.4)\n",
    "plt.plot(t,preds, color='b')\n",
    "plt.xlabel('Time', fontsize=17)\n",
    "plt.ylabel('Prob. of tipping', fontsize=17)\n",
    "plt.yticks(np.arange(0,1.5,0.5), fontsize=14)\n",
    "plt.xticks(np.arange(0,a.shape[0],2000), fontsize=14)\n",
    "\n",
    "plt.subplots_adjust(hspace=0.01)\n",
    "\n",
    "\n",
    "# plt.savefig('mo_real_time.pdf', dpi=300)\n",
    "\n",
    "plt.show()"
   ]
  }
 ],
 "metadata": {
  "kernelspec": {
   "display_name": "Python 3 (ipykernel)",
   "language": "python",
   "name": "python3"
  },
  "language_info": {
   "codemirror_mode": {
    "name": "ipython",
    "version": 3
   },
   "file_extension": ".py",
   "mimetype": "text/x-python",
   "name": "python",
   "nbconvert_exporter": "python",
   "pygments_lexer": "ipython3",
   "version": "3.9.7"
  }
 },
 "nbformat": 4,
 "nbformat_minor": 5
}
