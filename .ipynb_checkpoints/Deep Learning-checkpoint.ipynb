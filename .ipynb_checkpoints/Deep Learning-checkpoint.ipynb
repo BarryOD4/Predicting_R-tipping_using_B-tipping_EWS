{
 "cells": [
  {
   "cell_type": "markdown",
   "id": "1ce2f626-3a8e-47b4-b7d0-a29cb524f735",
   "metadata": {},
   "source": [
    "Begin by importing necessary libraries"
   ]
  },
  {
   "cell_type": "code",
   "execution_count": 1,
   "id": "2826f1f1",
   "metadata": {},
   "outputs": [
    {
     "name": "stdout",
     "output_type": "stream",
     "text": [
      "2.10.0\n",
      "2.10.0\n"
     ]
    }
   ],
   "source": [
    "import tensorflow as tf\n",
    "from tensorflow.keras import layers\n",
    "import tensorflow.keras as keras\n",
    "\n",
    "import numpy as np\n",
    "import matplotlib.pyplot as plt\n",
    "from sklearn.metrics import roc_curve, roc_auc_score, RocCurveDisplay\n",
    "\n",
    "print(tf.__version__)\n",
    "print(tf.keras.__version__)\n",
    "\n",
    "\n",
    "from ipywidgets import interact, interactive, fixed, interact_manual\n",
    "import ipywidgets as widgets\n",
    "\n",
    "directory = 'C:/Users/odonn/Documents/Masters 2021/Thesis/Python/'"
   ]
  },
  {
   "cell_type": "markdown",
   "id": "9aba13b1",
   "metadata": {},
   "source": [
    "________"
   ]
  },
  {
   "cell_type": "markdown",
   "id": "bd200c87-7131-4db0-92bc-70d9559f0d96",
   "metadata": {},
   "source": [
    "Define helper functions"
   ]
  },
  {
   "cell_type": "code",
   "execution_count": 2,
   "id": "c2db3da4",
   "metadata": {
    "tags": []
   },
   "outputs": [],
   "source": [
    "def var_data(dataset, window_size):\n",
    "    \"\"\"\n",
    "    Calculates moving variance on solution\n",
    "    \n",
    "    dataset := numpy array, expects form of (no. of solns, length of soln.)\n",
    "    window_size := int, size of moving window\n",
    "    \"\"\"\n",
    "    \n",
    "    ## Get shapes of dataset\n",
    "    n = dataset.shape[0]\n",
    "    m = dataset.shape[1]\n",
    "\n",
    "    ## Calculates the amount of steps needed to transfer over\n",
    "    ##  the solution\n",
    "    window_steps = m - window_size\n",
    "\n",
    "    ## Initiates array to hold data\n",
    "    var_dat = np.zeros((n,window_steps))\n",
    "\n",
    "    ## Begins moving window\n",
    "    for j in range(n):\n",
    "        for i in range(window_steps):\n",
    "            ## Calculates variance within window\n",
    "            var_dat[j,i] = dataset[j,i:window_size+i].var()\n",
    "    \n",
    "    ## Returns moving variance for user\n",
    "    return var_dat\n",
    "\n",
    "def auto_data(dataset, window_size, k=1):\n",
    "    \"\"\"\n",
    "    Calculates autocorrelation of solution\n",
    "    \n",
    "    dataset := numpy array, expects form of (no. of solns, length of soln.)\n",
    "    window_size := int, size of moving windows\n",
    "    k := int, time step lag between windows (k=1 == lag-1 AC)\n",
    "    \"\"\"\n",
    "    \n",
    "    ## Get shapes of dataset\n",
    "    n = dataset.shape[0]\n",
    "    m = dataset.shape[1]\n",
    "    \n",
    "    ## Calculates the amount of steps needed to transfer over\n",
    "    ##  the solution\n",
    "    window_steps = m - (window_size + k)\n",
    "\n",
    "    ## Initiates AC array\n",
    "    auto_dat = np.zeros((n,window_steps))\n",
    "\n",
    "    ## Begins moving window\n",
    "    for j in range(n):\n",
    "        ## Grabs initial window\n",
    "        a = dataset[j, 0 :  window_size]\n",
    "        for i in range(window_steps):\n",
    "            ## Grabs next window\n",
    "            b = dataset[j, i + k : i + k + window_size]\n",
    "            \n",
    "            ## Calculates the correlation of the windows\n",
    "            auto_dat[j,i] = np.corrcoef(a,b)[0,1]\n",
    "            \n",
    "            ## old window becomes new window\n",
    "            a = b\n",
    "    \n",
    "    # Returns AC to user\n",
    "    return auto_dat\n",
    "\n",
    "def trim_data(var, auto, labels, tol, tol1):\n",
    "    \"\"\"\n",
    "    Trims B-tipping data for user. Uses peak in variance as \n",
    "        indication that we have passed a tipping point.\n",
    "    \n",
    "    var := numpy array, an array containing all the variance data for some solution\n",
    "    auto := numpy array, ''''' AC data ''' \n",
    "    labels := numpy array, ''' the labels for some solution\n",
    "    tol := int, the amount of values required before max variance has occurred\n",
    "    tol1 := int, how close to peak in variance we need\n",
    "    \"\"\"\n",
    "    \n",
    "    ## Initiates 3 temporary lists\n",
    "    temp1 = []\n",
    "    temp2 = []\n",
    "    temp3 = []\n",
    "\n",
    "    ## Begins loop to trim datasets\n",
    "    for i in range(len(var)):\n",
    "        \n",
    "        ## Finds peak in variance\n",
    "        end = np.argmax(var[i])\n",
    "        \n",
    "        ## Finds starting position for data trimming\n",
    "        start = end-tol\n",
    "\n",
    "        ## If peak has 'tol' values before it\n",
    "        if start > 0:\n",
    "            \n",
    "            ## Appends the new trimmed sets to their repsective list\n",
    "            temp1.append(var[i,start:end-tol1])\n",
    "            temp2.append(auto[i,start:end-tol1])\n",
    "            temp3.append(labels[i])\n",
    "            \n",
    "    ## Returns trimmed data to user\n",
    "    return np.array(temp1), np.array(temp2), np.array(temp3) \n",
    "\n",
    "def trim_r_data(var, auto, labels, tol, tol1):\n",
    "    \"\"\"\n",
    "    Trims R-tipping data for user. Uses peak in variance as \n",
    "        indication that we have passed a tipping point.\n",
    "    \n",
    "    var := numpy array, an array containing all the variance data for some solution\n",
    "    auto := numpy array, ''''' AC data ''' \n",
    "    labels := numpy array, ''' the labels for some solution\n",
    "    tol := int, the amount of values required before max variance has occurred\n",
    "    tol1 := int, how close to peak in variance we need\n",
    "    \"\"\"\n",
    "    \n",
    "    temp1 = []\n",
    "    temp2 = []\n",
    "    temp3 = []\n",
    "\n",
    "    for i in range(len(var)):\n",
    "        ## If solution tips...\n",
    "        if labels[i] == 1:\n",
    "            ## Finds peak in variance\n",
    "            end = np.argmax(var[i])\n",
    "\n",
    "            ## Finds starting position for data trimming\n",
    "            start = end-tol\n",
    "\n",
    "            ## If peak has 'tol' values before it\n",
    "            if start > 0:\n",
    "\n",
    "                ## Appends the new trimmed sets to their repsective list\n",
    "                temp1.append(var[i,start:end-tol1])\n",
    "                temp2.append(auto[i,start:end-tol1])\n",
    "                temp3.append(labels[i])\n",
    "\n",
    "        ## Else, solution never tipped, peak in variance poor indicator\n",
    "        ##  for data collection\n",
    "        else:\n",
    "            ## Take final values instead\n",
    "            end = -1\n",
    "            start = end-tol\n",
    "            \n",
    "            temp1.append(var[i,start:end-tol1])\n",
    "            temp2.append(auto[i,start:end-tol1])\n",
    "            temp3.append(labels[i])\n",
    "\n",
    "    ## Returns trimmed dataset for the user\n",
    "    return np.array(temp1), np.array(temp2), np.array(temp3)\n",
    "\n",
    "## Shorthand defines logistic equation for user.\n",
    "logistic = lambda x,k=1,x0=0: 1/(1 + np.exp(-k*(x-x0)))\n",
    "\n",
    "\n",
    "def min_max_norm(data):\n",
    "    \"\"\"\n",
    "    Min-Max normalisation method\n",
    "    \n",
    "    data := numpy array, contains a collection of sequences of data\n",
    "    \"\"\"\n",
    "    \n",
    "    ## Initiates array for user\n",
    "    min_max_data = np.zeros(data.shape)\n",
    "    \n",
    "    ## Calculates min-max norm for each solution\n",
    "    for i in range(data.shape[0]):\n",
    "        min_data = data[i].min()\n",
    "        max_data = data[i].max()\n",
    "        min_max_data[i] = (data[i] - min_data) / (max_data - min_data)\n",
    "    \n",
    "    ## Returns normalised data\n",
    "    return min_max_data\n",
    "\n",
    "\n",
    "def z_score_norm(data):\n",
    "    \"\"\"\n",
    "    Min-Max normalisation method\n",
    "    \n",
    "    data := numpy array, contains a collection of sequences of data\n",
    "    \"\"\"\n",
    "    \n",
    "    ## Initiates array for user\n",
    "    z_score_data = np.zeros(data.shape)\n",
    "    \n",
    "    ## Calculates Z-score norm for user\n",
    "    for i in range(data.shape[0]):\n",
    "        mean_data = data[i].mean()\n",
    "        std_data = data[i].std()\n",
    "        z_score_data[i] = (data[i] - mean_data) / std_data\n",
    "    \n",
    "    ## Returns normalised data\n",
    "    return z_score_data"
   ]
  },
  {
   "cell_type": "code",
   "execution_count": 3,
   "id": "b6d96842",
   "metadata": {},
   "outputs": [],
   "source": [
    "def show_pred(inp, actual, save_as=None):\n",
    "    \"\"\"\n",
    "    Shows models predictions on some input.\n",
    "    \n",
    "    inp := numpy array, time-series input. Shape == (2,85) or (1,2,85)\n",
    "    actual := numpy array, time-series true value. Shape == (2,15) or (1,2,15)\n",
    "    save_as := str, name for figure to be saved.\n",
    "    \n",
    "    Aside: Shape is dependent on network design. For thesis, it was chosen to be 85 values given, predict on 15.\n",
    "    \"\"\"\n",
    "    \n",
    "    ## Reshapes inp for LSTM \n",
    "    if len(inp.shape) != 3:\n",
    "        inp = inp.reshape(1,inp.shape[0],inp.shape[1])\n",
    "    \n",
    "    if len(actual.shape) != 3:\n",
    "        actual = actual.reshape(1,actual.shape[0],actual.shape[1])\n",
    "    \n",
    "    ## Get model predictions\n",
    "    res = LSTM.predict(inp, verbose=0)\n",
    "    n = inp.shape[1]\n",
    "    \n",
    "    ## Begins plot definitions\n",
    "    plt.figure(figsize=(10,5))\n",
    "    \n",
    "    plt.subplot(1,2,1)\n",
    "    plt.plot(inp[0,:,0], label='Input data')\n",
    "    plt.plot(n, res[0,0,0], 'ro', label='Predicted Value')\n",
    "    plt.plot(n, actual[0,0,0], 'gs', label='True Value')\n",
    "    plt.plot(0,0, 'k.', alpha=0, label = 'Probability of tipping = ' + str(predict_tipping(inp)))\n",
    "    \n",
    "    for i in range(1, res.shape[1]):\n",
    "        plt.plot([n+i, n+i], [res[0,i,0], actual[0,i,0]], '0.8')\n",
    "        plt.plot(n+i, res[0,i,0], 'ro')\n",
    "        plt.plot(n+i, actual[0,i,0], 'gs')\n",
    "    \n",
    "    plt.xlabel('Time', fontsize=17)\n",
    "    plt.ylabel('Variance', fontsize=17)\n",
    "\n",
    "    plt.legend()\n",
    "    \n",
    "    \n",
    "    \n",
    "    plt.subplot(1,2,2)\n",
    "    plt.plot(inp[0,:,1], label='Input data')\n",
    "    \n",
    "    plt.plot(n, res[0,0,1], 'ro')\n",
    "    plt.plot(n, actual[0,0,1], 'gs')\n",
    "    \n",
    "    for i in range(1, res.shape[1]):\n",
    "        plt.plot([n+i, n+i], [res[0,i,1], actual[0,i,1]], '0.8')\n",
    "        plt.plot(n+i, res[0,i,1], 'ro')\n",
    "        plt.plot(n+i, actual[0,i,1], 'gs')\n",
    "    \n",
    "    plt.xlabel('Time', fontsize=17)\n",
    "    plt.ylabel('AC', fontsize=17)\n",
    "    \n",
    "    \n",
    "    plt.ylim(-1.1,1.1)\n",
    "    \n",
    "    if save_as != None:\n",
    "        plt.savefig(save_as, dpi=300)\n",
    "    \n",
    "    plt.show()"
   ]
  },
  {
   "cell_type": "markdown",
   "id": "30e8347a-efe2-4cec-bc94-e7234a8f97da",
   "metadata": {},
   "source": [
    "Begin by reading in data generated in `Generated Data.ipynb`"
   ]
  },
  {
   "cell_type": "code",
   "execution_count": 4,
   "id": "5dfdb546",
   "metadata": {},
   "outputs": [
    {
     "data": {
      "text/plain": [
       "(10000, 1001)"
      ]
     },
     "execution_count": 4,
     "metadata": {},
     "output_type": "execute_result"
    }
   ],
   "source": [
    "#dataset = np.genfromtxt('dataset.csv', delimiter=',')\n",
    "\n",
    "data = np.genfromtxt('dataset_part1.csv', delimiter=',')\n",
    "data1 = np.genfromtxt('dataset_part2.csv', delimiter=',')\n",
    "\n",
    "## These two data sets were produced and have additional noise.\n",
    "data2 = np.genfromtxt('dataset_part1_alt.csv', delimiter=',')\n",
    "data3 = np.genfromtxt('dataset_part2_alt.csv', delimiter=',')\n",
    "\n",
    "dataset = np.array([data, data1, data2, data3])\n",
    "\n",
    "## Reshapes entire dataset to be of shape (P,M)\n",
    "dataset = np.reshape(dataset, (data.shape[0] + data1.shape[0] + data2.shape[0] + data3.shape[0], data.shape[1]))\n",
    "\n",
    "dataset.shape"
   ]
  },
  {
   "cell_type": "markdown",
   "id": "a10e45d9-b2be-41e6-bfa4-26aafd416819",
   "metadata": {},
   "source": [
    "Plotting a few samples of the dataset.\n",
    "\n",
    "Red indicates a system which tipped, blue indicates a system which has not tipped."
   ]
  },
  {
   "cell_type": "code",
   "execution_count": 5,
   "id": "ffaa1f33",
   "metadata": {},
   "outputs": [
    {
     "data": {
      "image/png": "[encoded data removed]",
      "text/plain": [
       "<Figure size 864x720 with 8 Axes>"
      ]
     },
     "metadata": {
      "needs_background": "light"
     },
     "output_type": "display_data"
    }
   ],
   "source": [
    "plt.figure(1,(12,10))\n",
    "for i in range(1, 9):\n",
    "    plt.subplot(2,4,i)\n",
    "    k = np.random.randint(0,dataset.shape[0])\n",
    "    if dataset[k,0] == 1:\n",
    "        plt.plot(dataset[k,1:], 'r')\n",
    "        plt.xlabel(\"Bifurcation\")\n",
    "    else:\n",
    "        plt.plot(dataset[k,1:], 'b')"
   ]
  },
  {
   "cell_type": "markdown",
   "id": "2c01572c-9426-47fb-8d7c-df24ba0a897b",
   "metadata": {},
   "source": [
    "Shuffle dataset. As of now, data is mostly organised"
   ]
  },
  {
   "cell_type": "code",
   "execution_count": 6,
   "id": "05797e94",
   "metadata": {},
   "outputs": [
    {
     "data": {
      "text/plain": [
       "(array([[ 1.        , -2.39055072, -2.36149109, ...,  1.89734274,\n",
       "          1.83919636,  1.84796619],\n",
       "        [ 1.        , -7.18490505, -7.17776438, ...,  2.23712883,\n",
       "          2.16921039,  2.36419129],\n",
       "        [ 0.        , -2.72210258, -2.84916726, ...,  1.85464291,\n",
       "          1.82626498,  1.82007327],\n",
       "        ...,\n",
       "        [ 0.        , -2.67387451, -2.61780078, ...,  0.89180076,\n",
       "          1.03995171,  0.62378624],\n",
       "        [ 0.        , -1.59870006, -1.7175716 , ...,  0.80806065,\n",
       "          0.97502117,  0.9476884 ],\n",
       "        [ 1.        , -2.57094067, -2.59941645, ...,  1.82401482,\n",
       "          1.85833714,  1.89239874]]),\n",
       " 4621.0)"
      ]
     },
     "execution_count": 6,
     "metadata": {},
     "output_type": "execute_result"
    }
   ],
   "source": [
    "rng = np.random.default_rng()\n",
    "rng.shuffle(dataset)\n",
    "\n",
    "dataset, sum(dataset[:,0])"
   ]
  },
  {
   "cell_type": "markdown",
   "id": "e8cfdb86-417d-4726-b9b6-2a1b0c5ed782",
   "metadata": {},
   "source": [
    "Splitting dataset into variance, AC and labels.\n",
    "\n",
    "Labels indicate whether a solution has tipped or not."
   ]
  },
  {
   "cell_type": "code",
   "execution_count": 7,
   "id": "d431323c",
   "metadata": {},
   "outputs": [],
   "source": [
    "dataset = np.genfromtxt(directory + 'shuffle_dataset.csv', delimiter=',')\n",
    "var_dat = np.genfromtxt(directory + 'var_dat.csv', delimiter=',')\n",
    "auto_dat = np.genfromtxt(directory + 'auto_dat.csv', delimiter=',')\n",
    "\n",
    "labels = dataset[:,0].astype(int)\n",
    "\n",
    "# n = int(dataset.shape[1] * 0.1)\n",
    "# k = 1\n",
    "\n",
    "# var_dat = var_data(dataset[:,1:], n)\n",
    "\n",
    "# auto_dat = auto_data(dataset[:,1:], n-k, k)\n",
    "\n",
    "# var_dat.shape, auto_dat.shape"
   ]
  },
  {
   "cell_type": "markdown",
   "id": "0fd9d6fa-1481-4aaf-8274-52445f10c2d4",
   "metadata": {},
   "source": [
    "Previous cell can take considerable amount of time, save outputs when re-running data."
   ]
  },
  {
   "cell_type": "code",
   "execution_count": 8,
   "id": "c4426d93",
   "metadata": {},
   "outputs": [],
   "source": [
    "# np.savetxt('shuffle_dataset.csv', dataset, delimiter=',')\n",
    "# np.savetxt('var_dat.csv', var_dat, delimiter=',')\n",
    "# np.savetxt('auto_dat.csv', auto_dat, delimiter=',')"
   ]
  },
  {
   "cell_type": "markdown",
   "id": "3bf8e49b-0662-4fd4-b046-02efa56741ac",
   "metadata": {},
   "source": [
    "Plot variance and AC. Colours again represent whether a tipping point occurred or not."
   ]
  },
  {
   "cell_type": "code",
   "execution_count": 9,
   "id": "942495d0",
   "metadata": {},
   "outputs": [
    {
     "data": {
      "image/png": "[encoded data removed]",
      "text/plain": [
       "<Figure size 864x720 with 10 Axes>"
      ]
     },
     "metadata": {
      "needs_background": "light"
     },
     "output_type": "display_data"
    }
   ],
   "source": [
    "plt.figure(1,(12,10))\n",
    "for i in range(1, 6):\n",
    "    plt.subplot(2,5,i)\n",
    "    k = np.random.randint(0,var_dat.shape[0])\n",
    "    if labels[k] == 1:\n",
    "        plt.plot(auto_dat[k], 'r')\n",
    "        plt.xlabel(\"Bifurcation\")\n",
    "    else:\n",
    "        plt.plot(auto_dat[k], 'b')\n",
    "    plt.ylim((-1,1.1))\n",
    "\n",
    "    plt.subplot(2,5,i+5)\n",
    "    \n",
    "    if labels[k] == 1:\n",
    "        plt.plot(var_dat[k], 'r')\n",
    "        plt.xlabel(\"Bifurcation\")\n",
    "    else:\n",
    "        plt.plot(var_dat[k], 'b')\n",
    "    plt.ylim((0,1.1))"
   ]
  },
  {
   "cell_type": "markdown",
   "id": "365522b4-75e7-4ac2-8459-0d7285f192d7",
   "metadata": {},
   "source": [
    "Trim dataset to contain only solutions we are interested in."
   ]
  },
  {
   "cell_type": "code",
   "execution_count": 10,
   "id": "40233708-5b05-4b35-b2d3-20976e609a16",
   "metadata": {},
   "outputs": [],
   "source": [
    "trimmed_var, trimmed_auto, trimmed_labels = trim_data(var_dat, auto_dat, labels, tol=135, tol1=35)"
   ]
  },
  {
   "cell_type": "code",
   "execution_count": 11,
   "id": "8dabb4c6",
   "metadata": {},
   "outputs": [
    {
     "data": {
      "text/plain": [
       "((1000, 900), (998, 100), (998, 100), (998,))"
      ]
     },
     "execution_count": 11,
     "metadata": {},
     "output_type": "execute_result"
    }
   ],
   "source": [
    "var_dat.shape, trimmed_var.shape, trimmed_auto.shape, trimmed_labels.shape"
   ]
  },
  {
   "cell_type": "markdown",
   "id": "a4fac324-d18f-41ce-a627-b9af6a8a2f61",
   "metadata": {},
   "source": [
    "Plot trimmed solutions to show difference."
   ]
  },
  {
   "cell_type": "code",
   "execution_count": 12,
   "id": "fe980ec2",
   "metadata": {},
   "outputs": [
    {
     "data": {
      "image/png": "[encoded data removed]",
      "text/plain": [
       "<Figure size 864x720 with 10 Axes>"
      ]
     },
     "metadata": {
      "needs_background": "light"
     },
     "output_type": "display_data"
    }
   ],
   "source": [
    "plt.figure(1,(12,10))\n",
    "for i in range(1, 6):\n",
    "    plt.subplot(2,5,i)\n",
    "    k = np.random.randint(0,var_dat.shape[0])\n",
    "    if trimmed_labels[k] == 1:\n",
    "        plt.plot(trimmed_auto[k], 'r')\n",
    "        plt.xlabel(\"Bifurcation\")\n",
    "    else:\n",
    "        plt.plot(trimmed_auto[k], 'b')\n",
    "    plt.ylim((0,1.1))\n",
    "\n",
    "    plt.subplot(2,5,i+5)\n",
    "    \n",
    "    if trimmed_labels[k] == 1:\n",
    "        plt.plot(trimmed_var[k], 'r')\n",
    "        plt.xlabel(\"Bifurcation\")\n",
    "    else:\n",
    "        plt.plot(trimmed_var[k], 'b')\n",
    "    plt.ylim((0,1.1))"
   ]
  },
  {
   "cell_type": "markdown",
   "id": "35a8005c-9d8e-4f01-b715-a12f8c739dd2",
   "metadata": {},
   "source": [
    "We look at the distribution of the max values of variance. Large outliers in the dataset could cause the network to underfit the data."
   ]
  },
  {
   "cell_type": "code",
   "execution_count": 13,
   "id": "a1d091e1",
   "metadata": {},
   "outputs": [
    {
     "data": {
      "image/png": "[encoded data removed]",
      "text/plain": [
       "<Figure size 1296x288 with 5 Axes>"
      ]
     },
     "metadata": {
      "needs_background": "light"
     },
     "output_type": "display_data"
    }
   ],
   "source": [
    "plt.figure(figsize=(18,4))\n",
    "plt.subplot(1,5,1)\n",
    "plt.hist(np.amax(trimmed_var, axis=1))\n",
    "\n",
    "plt.subplot(1,5,2)\n",
    "plt.hist(np.amax(np.tanh(trimmed_var), axis=1))\n",
    "\n",
    "plt.subplot(1,5,3)\n",
    "plt.hist(np.amax(logistic(trimmed_var), axis=1))\n",
    "\n",
    "plt.subplot(1,5,4)\n",
    "plt.hist(np.amax(min_max_norm(trimmed_var), axis=1))\n",
    "\n",
    "plt.subplot(1,5,5)\n",
    "plt.hist(np.amax(z_score_norm(trimmed_var), axis=1))\n",
    "\n",
    "plt.show()"
   ]
  },
  {
   "cell_type": "markdown",
   "id": "38cfd4c5-1ce8-42a2-933c-46af8b8f19e8",
   "metadata": {},
   "source": [
    "Choose Z-score norm as it provides the best distribution."
   ]
  },
  {
   "cell_type": "code",
   "execution_count": 14,
   "id": "a707b27d",
   "metadata": {},
   "outputs": [],
   "source": [
    "normalised_var = z_score_norm(trimmed_var)"
   ]
  },
  {
   "cell_type": "markdown",
   "id": "2a01f0cc-7564-4de4-8444-40c3fb423c01",
   "metadata": {},
   "source": [
    "Combine variance and AC together.\n",
    "Reshape the array for training"
   ]
  },
  {
   "cell_type": "code",
   "execution_count": 15,
   "id": "a510e7cf",
   "metadata": {},
   "outputs": [
    {
     "data": {
      "text/plain": [
       "((998, 2, 100),\n",
       " array([-1.31313015, -1.3387441 , -1.2925307 , -1.30563096, -1.30419997,\n",
       "        -1.25404349, -1.25329939, -1.18100741, -1.1700392 , -1.07360462]),\n",
       " array([0.59982031, 0.60863932, 0.62035176, 0.61316464, 0.60528162,\n",
       "        0.61461922, 0.60853113, 0.60291109, 0.60580814, 0.60919072]),\n",
       " array([-1.31313015, -1.3387441 , -1.2925307 , -1.30563096, -1.30419997,\n",
       "        -1.25404349, -1.25329939, -1.18100741, -1.1700392 , -1.07360462]),\n",
       " array([0.59982031, 0.60863932, 0.62035176, 0.61316464, 0.60528162,\n",
       "        0.61461922, 0.60853113, 0.60291109, 0.60580814, 0.60919072]))"
      ]
     },
     "execution_count": 15,
     "metadata": {},
     "output_type": "execute_result"
    }
   ],
   "source": [
    "data = np.zeros((normalised_var.shape[0], 2, normalised_var.shape[1]))\n",
    "\n",
    "for i in range(trimmed_var.shape[0]):\n",
    "    data[i,0] = normalised_var[i]\n",
    "    data[i,1] = trimmed_auto[i]\n",
    "\n",
    "data.shape, normalised_var[0,:10], trimmed_auto[0,:10], data[0,0,0:10], data[0,1,0:10]"
   ]
  },
  {
   "cell_type": "markdown",
   "id": "384b11e3-2151-4aa1-abf1-840080b671c1",
   "metadata": {},
   "source": [
    "Split data into $70:20:10$; train, validation and test"
   ]
  },
  {
   "cell_type": "code",
   "execution_count": 16,
   "id": "6dc6d0b5",
   "metadata": {},
   "outputs": [],
   "source": [
    "n = normalised_var.shape[0]\n",
    "train_labels = trimmed_labels[:int(0.7*n)]\n",
    "val_labels = trimmed_labels[int(0.7*n):int(0.9*n)]\n",
    "test_labels = trimmed_labels[int(0.9*n):]\n",
    "test_labels[:10]\n",
    "\n",
    "train_dat = data[:int(0.7*n)]\n",
    "val_dat = data[int(0.7*n):int(0.9*n)]\n",
    "test_dat = data[int(0.9*n):]"
   ]
  },
  {
   "cell_type": "code",
   "execution_count": 17,
   "id": "6c1e6f31",
   "metadata": {},
   "outputs": [
    {
     "data": {
      "text/plain": [
       "((100, 2, 100), (100,))"
      ]
     },
     "execution_count": 17,
     "metadata": {},
     "output_type": "execute_result"
    }
   ],
   "source": [
    "test_dat.shape, test_labels.shape"
   ]
  },
  {
   "cell_type": "markdown",
   "id": "f0e24ea6",
   "metadata": {},
   "source": [
    "## MLP and CNN"
   ]
  },
  {
   "cell_type": "markdown",
   "id": "e770fa0f",
   "metadata": {},
   "source": [
    "Using MLP and CNN's to discern if a fold bifurcation has occurred or not."
   ]
  },
  {
   "cell_type": "code",
   "execution_count": 18,
   "id": "4318b913",
   "metadata": {},
   "outputs": [
    {
     "name": "stdout",
     "output_type": "stream",
     "text": [
      "Model: \"ANN\"\n",
      "_________________________________________________________________\n",
      " Layer (type)                Output Shape              Param #   \n",
      "=================================================================\n",
      " Variance and AC (InputLayer  [(None, 2, 100)]         0         \n",
      " )                                                               \n",
      "                                                                 \n",
      " dense (Dense)               (None, 2, 128)            12928     \n",
      "                                                                 \n",
      " flatten (Flatten)           (None, 256)               0         \n",
      "                                                                 \n",
      " dense_1 (Dense)             (None, 64)                16448     \n",
      "                                                                 \n",
      " dense_2 (Dense)             (None, 1)                 65        \n",
      "                                                                 \n",
      "=================================================================\n",
      "Total params: 29,441\n",
      "Trainable params: 29,441\n",
      "Non-trainable params: 0\n",
      "_________________________________________________________________\n",
      "4/4 [==============================] - 0s 2ms/step - loss: 0.0688 - accuracy: 0.9300\n"
     ]
    }
   ],
   "source": [
    "inputs = keras.Input(shape=(train_dat.shape[1:]), name=\"Variance and AC\")\n",
    "\n",
    "x = layers.Dense(128, activation='relu')(inputs)\n",
    "x = layers.Flatten()(x)\n",
    "x = layers.Dense(64, activation='relu')(x)\n",
    "\n",
    "outputs = layers.Dense(1, activation='sigmoid')(x)\n",
    "\n",
    "model_MLP = keras.Model(inputs, outputs, name=\"ANN\")\n",
    "\n",
    "## Compile model\n",
    "model_MLP.compile(optimizer='adam', \n",
    "              loss = 'mse',\n",
    "              metrics=['accuracy'])\n",
    "\n",
    "## Relay model summary to user\n",
    "model_MLP.summary()\n",
    "\n",
    "## Train model\n",
    "model_MLP.fit(train_dat, train_labels, validation_data = (val_dat, val_labels), batch_size=32, epochs=30, verbose=0)\n",
    "\n",
    "## Evalute model accuracy\n",
    "test_loss, test_acc = model_MLP.evaluate(test_dat, test_labels)"
   ]
  },
  {
   "cell_type": "code",
   "execution_count": 19,
   "id": "c772659f",
   "metadata": {},
   "outputs": [
    {
     "name": "stdout",
     "output_type": "stream",
     "text": [
      "Model: \"CNN\"\n",
      "_________________________________________________________________\n",
      " Layer (type)                Output Shape              Param #   \n",
      "=================================================================\n",
      " Variance and AC (InputLayer  [(None, 2, 100)]         0         \n",
      " )                                                               \n",
      "                                                                 \n",
      " conv1d (Conv1D)             (None, 2, 64)             6464      \n",
      "                                                                 \n",
      " max_pooling1d (MaxPooling1D  (None, 1, 64)            0         \n",
      " )                                                               \n",
      "                                                                 \n",
      " conv1d_1 (Conv1D)           (None, 1, 64)             4160      \n",
      "                                                                 \n",
      " flatten_1 (Flatten)         (None, 64)                0         \n",
      "                                                                 \n",
      " dense_3 (Dense)             (None, 1)                 65        \n",
      "                                                                 \n",
      "=================================================================\n",
      "Total params: 10,689\n",
      "Trainable params: 10,689\n",
      "Non-trainable params: 0\n",
      "_________________________________________________________________\n",
      "4/4 [==============================] - 0s 3ms/step - loss: 0.0791 - accuracy: 0.9100\n"
     ]
    }
   ],
   "source": [
    "inputs = keras.Input(shape=(train_dat.shape[1:]), name=\"Variance and AC\")\n",
    "\n",
    "x = layers.Conv1D(64, 1, activation=\"relu\")(inputs)\n",
    "x = layers.MaxPooling1D(2)(x)\n",
    "x = layers.Conv1D(64, 1, activation=\"relu\")(x)\n",
    "x = layers.Flatten()(x)\n",
    "\n",
    "outputs = layers.Dense(1, activation='sigmoid')(x)\n",
    "\n",
    "model_CNN = keras.Model(inputs, outputs, name=\"CNN\")\n",
    "\n",
    "\n",
    "## Compile model\n",
    "model_CNN.compile(optimizer='adam', \n",
    "              loss = 'mse',\n",
    "              metrics=['accuracy'])\n",
    "\n",
    "## Relay model summary to user\n",
    "model_CNN.summary()\n",
    "\n",
    "## Train model\n",
    "model_CNN.fit(train_dat, train_labels, validation_data = (val_dat, val_labels), epochs=5, verbose=0)\n",
    "\n",
    "## Evalute model accuracy\n",
    "test_loss, test_acc = model_CNN.evaluate(test_dat, test_labels)"
   ]
  },
  {
   "cell_type": "markdown",
   "id": "e6d66745",
   "metadata": {},
   "source": [
    "_____"
   ]
  },
  {
   "cell_type": "markdown",
   "id": "2d7f7a0f",
   "metadata": {},
   "source": [
    "## LSTM's"
   ]
  },
  {
   "cell_type": "markdown",
   "id": "1627509e",
   "metadata": {},
   "source": [
    "Need to reshape to [Samples, Time Steps, Features]\n",
    "\n",
    "EX\n",
    "[~1000 Samples, (5 Var Timesteps, 5 Auto Timesteps), (Next Variance,  Next AutoCor)]\n",
    "\n",
    "https://machinelearningmastery.com/how-to-develop-lstm-models-for-time-series-forecasting/"
   ]
  },
  {
   "cell_type": "code",
   "execution_count": 20,
   "id": "eeda42df",
   "metadata": {},
   "outputs": [],
   "source": [
    "def create_time_series(data, steps_back=5, steps_forward=1, features = 2):\n",
    "    \"\"\"Creates time series from set of data.\n",
    "        Takes in sample of data, creates time series of final (step_forward + step_back) steps.\n",
    "        \n",
    "        data := array, has form (# samples, # features, # time steps)\n",
    "        steps_back, steps_forward := int, amount of steps_back used to guess steps_forward\n",
    "        features := amount of features present in the data (ex. variance and autocorrelation)\n",
    "        \n",
    "        Returns 2 arrays, where 'X' consists of (t-step_back, ..., t-1)\n",
    "                                'y' consists of (t)\n",
    "        \"\"\"\n",
    "    \n",
    "    ## Initialise arrays for data\n",
    "    ##  Has shape (sample, timesteps, features)\n",
    "    X = np.zeros((data.shape[0],steps_back,features))\n",
    "    y = np.zeros((data.shape[0],steps_forward,features))\n",
    "    \n",
    "    ## Begin loop for each sample\n",
    "    for i in range(data.shape[0]):\n",
    "        ## ... and each feature\n",
    "        for j in range(features):\n",
    "            X[i,:,j] = data[i,j,-(steps_back+steps_forward):-steps_forward]\n",
    "            y[i,:,j] = data[i,j,-steps_forward:]\n",
    "    \n",
    "    return X,y"
   ]
  },
  {
   "cell_type": "markdown",
   "id": "c6bde18f-8f93-416a-a229-0c5c80df25c4",
   "metadata": {},
   "source": [
    "Making data a time-series"
   ]
  },
  {
   "cell_type": "code",
   "execution_count": 21,
   "id": "261ef3a5",
   "metadata": {},
   "outputs": [
    {
     "data": {
      "image/png": "[encoded data removed]",
      "text/plain": [
       "<Figure size 432x288 with 1 Axes>"
      ]
     },
     "metadata": {
      "needs_background": "light"
     },
     "output_type": "display_data"
    },
    {
     "data": {
      "text/plain": [
       "((998, 85, 2), (998, 15, 2))"
      ]
     },
     "execution_count": 21,
     "metadata": {},
     "output_type": "execute_result"
    }
   ],
   "source": [
    "steps_back = 85\n",
    "steps_forward = 15\n",
    "features = data.shape[1]\n",
    "\n",
    "X,y = create_time_series(data, steps_back, steps_forward, features)\n",
    "\n",
    "## Plotting output for user\n",
    "k = np.random.randint(0, 100)\n",
    "plt.plot(data[k,0])\n",
    "plt.plot(np.arange(data.shape[2]-steps_forward-5, data.shape[2]-5), y[k,:,0], 'ro')\n",
    "plt.plot(np.arange(data.shape[2]-(steps_back+steps_forward)-5, data.shape[2] - steps_forward-5), X[k,:,0])\n",
    "\n",
    "plt.show()\n",
    "X.shape, y.shape"
   ]
  },
  {
   "cell_type": "markdown",
   "id": "4b43cf7d-fa39-43ba-8a35-7146cfc76485",
   "metadata": {},
   "source": [
    "Split data into $70:20:10$; train, validation and test"
   ]
  },
  {
   "cell_type": "code",
   "execution_count": 22,
   "id": "28022ab2",
   "metadata": {},
   "outputs": [],
   "source": [
    "n = X.shape[0]\n",
    "\n",
    "train_X = X[:int(0.7*n)]\n",
    "val_X = X[int(0.7*n):int(0.9*n)]\n",
    "test_X = X[int(0.9*n):]\n",
    "\n",
    "\n",
    "train_y = y[:int(0.7*n)]\n",
    "val_y = y[int(0.7*n):int(0.9*n)]\n",
    "test_y = y[int(0.9*n):]\n"
   ]
  },
  {
   "cell_type": "code",
   "execution_count": 23,
   "id": "4a684bf6",
   "metadata": {},
   "outputs": [
    {
     "data": {
      "text/plain": [
       "((698, 85, 2), (698, 15, 2))"
      ]
     },
     "execution_count": 23,
     "metadata": {},
     "output_type": "execute_result"
    }
   ],
   "source": [
    "train_X.shape, train_y.shape"
   ]
  },
  {
   "cell_type": "markdown",
   "id": "b5a8d1ef-e0fd-4fee-a7ee-7bc16221213e",
   "metadata": {},
   "source": [
    "Begin training LSTM"
   ]
  },
  {
   "cell_type": "code",
   "execution_count": 24,
   "id": "2688f2b1",
   "metadata": {},
   "outputs": [
    {
     "name": "stdout",
     "output_type": "stream",
     "text": [
      "Model: \"LSTM\"\n",
      "_________________________________________________________________\n",
      " Layer (type)                Output Shape              Param #   \n",
      "=================================================================\n",
      " data (InputLayer)           [(None, 85, 2)]           0         \n",
      "                                                                 \n",
      " lstm (LSTM)                 (None, 64)                17152     \n",
      "                                                                 \n",
      " repeat_vector (RepeatVector  (None, 15, 64)           0         \n",
      " )                                                               \n",
      "                                                                 \n",
      " lstm_1 (LSTM)               (None, 15, 32)            12416     \n",
      "                                                                 \n",
      " dense_4 (Dense)             (None, 15, 32)            1056      \n",
      "                                                                 \n",
      " time_distributed (TimeDistr  (None, 15, 2)            66        \n",
      " ibuted)                                                         \n",
      "                                                                 \n",
      "=================================================================\n",
      "Total params: 30,690\n",
      "Trainable params: 30,690\n",
      "Non-trainable params: 0\n",
      "_________________________________________________________________\n",
      "Epoch 1/100\n",
      "22/22 [==============================] - 4s 60ms/step - loss: 1.2632 - val_loss: 0.4827\n",
      "Epoch 2/100\n",
      "22/22 [==============================] - 1s 40ms/step - loss: 0.3511 - val_loss: 0.3133\n",
      "Epoch 3/100\n",
      "22/22 [==============================] - 1s 40ms/step - loss: 0.2583 - val_loss: 0.2521\n",
      "Epoch 4/100\n",
      "22/22 [==============================] - 1s 40ms/step - loss: 0.2136 - val_loss: 0.2189\n",
      "Epoch 5/100\n",
      "22/22 [==============================] - 1s 41ms/step - loss: 806820.0625 - val_loss: 0.1931\n",
      "Epoch 6/100\n",
      "22/22 [==============================] - 1s 40ms/step - loss: 0.1872 - val_loss: 0.2036\n",
      "Epoch 7/100\n",
      "22/22 [==============================] - 1s 40ms/step - loss: 0.1816 - val_loss: 0.1884\n",
      "Epoch 8/100\n",
      "22/22 [==============================] - 1s 40ms/step - loss: 0.1675 - val_loss: 0.1760\n",
      "Epoch 9/100\n",
      "22/22 [==============================] - 1s 40ms/step - loss: 0.1571 - val_loss: 0.1659\n",
      "Epoch 10/100\n",
      "22/22 [==============================] - 1s 40ms/step - loss: 0.1492 - val_loss: 0.1577\n",
      "Epoch 11/100\n",
      "22/22 [==============================] - 1s 39ms/step - loss: 0.1458 - val_loss: 0.1585\n",
      "Epoch 12/100\n",
      "22/22 [==============================] - 1s 41ms/step - loss: 0.1410 - val_loss: 0.1481\n",
      "Epoch 13/100\n",
      "22/22 [==============================] - 1s 40ms/step - loss: 0.1350 - val_loss: 0.1423\n",
      "Epoch 14/100\n",
      "22/22 [==============================] - 1s 43ms/step - loss: 0.1303 - val_loss: 0.1392\n",
      "Epoch 15/100\n",
      "22/22 [==============================] - 1s 44ms/step - loss: 0.1283 - val_loss: 0.1362\n",
      "Epoch 16/100\n",
      "22/22 [==============================] - 1s 40ms/step - loss: 0.1250 - val_loss: 0.1331\n",
      "Epoch 17/100\n",
      "22/22 [==============================] - 1s 42ms/step - loss: 0.1195 - val_loss: 0.1291\n",
      "Epoch 18/100\n",
      "22/22 [==============================] - 1s 43ms/step - loss: 0.1179 - val_loss: 0.1276\n",
      "Epoch 19/100\n",
      "22/22 [==============================] - 1s 49ms/step - loss: 0.1166 - val_loss: 0.1278\n",
      "Epoch 20/100\n",
      "22/22 [==============================] - 1s 49ms/step - loss: 0.1136 - val_loss: 0.1255\n",
      "Epoch 21/100\n",
      "22/22 [==============================] - 1s 46ms/step - loss: 0.1121 - val_loss: 0.1253\n",
      "Epoch 22/100\n",
      "22/22 [==============================] - 1s 48ms/step - loss: 0.1102 - val_loss: 0.1213\n",
      "Epoch 23/100\n",
      "22/22 [==============================] - 1s 46ms/step - loss: 0.1090 - val_loss: 0.1194\n",
      "Epoch 24/100\n",
      "22/22 [==============================] - 1s 47ms/step - loss: 0.1075 - val_loss: 0.1196\n",
      "Epoch 25/100\n",
      "22/22 [==============================] - 1s 46ms/step - loss: 0.1063 - val_loss: 0.1186\n",
      "Epoch 26/100\n",
      "22/22 [==============================] - 1s 42ms/step - loss: 0.1046 - val_loss: 0.1169\n",
      "Epoch 27/100\n",
      "22/22 [==============================] - 1s 42ms/step - loss: 0.1038 - val_loss: 0.1169\n",
      "Epoch 28/100\n",
      "22/22 [==============================] - 1s 40ms/step - loss: 0.1024 - val_loss: 0.1161\n",
      "Epoch 29/100\n",
      "22/22 [==============================] - 1s 40ms/step - loss: 0.1028 - val_loss: 0.1157\n",
      "Epoch 30/100\n",
      "22/22 [==============================] - 1s 40ms/step - loss: 0.1016 - val_loss: 0.1150\n",
      "Epoch 31/100\n",
      "22/22 [==============================] - 1s 40ms/step - loss: 0.0994 - val_loss: 0.1186\n",
      "Epoch 32/100\n",
      "22/22 [==============================] - 1s 40ms/step - loss: 0.0987 - val_loss: 0.1177\n",
      "Epoch 33/100\n",
      "22/22 [==============================] - 1s 42ms/step - loss: 0.0999 - val_loss: 0.1168\n",
      "Epoch 34/100\n",
      "22/22 [==============================] - 1s 41ms/step - loss: 0.0986 - val_loss: 0.1156\n",
      "Epoch 35/100\n",
      "22/22 [==============================] - 1s 39ms/step - loss: 0.0980 - val_loss: 0.1142\n",
      "Epoch 36/100\n",
      "22/22 [==============================] - 1s 40ms/step - loss: 0.0956 - val_loss: 0.1140\n",
      "Epoch 37/100\n",
      "22/22 [==============================] - 1s 40ms/step - loss: 0.0961 - val_loss: 0.1140\n",
      "Epoch 38/100\n",
      "22/22 [==============================] - 1s 40ms/step - loss: 0.0951 - val_loss: 0.1137\n",
      "Epoch 39/100\n",
      "22/22 [==============================] - 1s 40ms/step - loss: 0.0959 - val_loss: 0.1139\n",
      "Epoch 40/100\n",
      "22/22 [==============================] - 1s 40ms/step - loss: 0.0958 - val_loss: 0.1176\n",
      "Epoch 41/100\n",
      "22/22 [==============================] - 1s 40ms/step - loss: 0.0943 - val_loss: 0.1144\n",
      "Epoch 42/100\n",
      "22/22 [==============================] - 1s 39ms/step - loss: 0.0889 - val_loss: 0.1147\n",
      "Epoch 43/100\n",
      "22/22 [==============================] - 1s 40ms/step - loss: 0.0871 - val_loss: 0.1116\n",
      "Epoch 44/100\n",
      "22/22 [==============================] - 1s 40ms/step - loss: 0.0822 - val_loss: 0.1043\n",
      "Epoch 45/100\n",
      "22/22 [==============================] - 1s 42ms/step - loss: 0.0801 - val_loss: 0.1064\n",
      "Epoch 46/100\n",
      "22/22 [==============================] - 1s 41ms/step - loss: 0.0794 - val_loss: 0.0942\n",
      "Epoch 47/100\n",
      "22/22 [==============================] - 1s 40ms/step - loss: 0.0780 - val_loss: 0.1005\n",
      "Epoch 48/100\n",
      "22/22 [==============================] - 1s 39ms/step - loss: 0.0775 - val_loss: 0.0959\n",
      "Epoch 49/100\n",
      "22/22 [==============================] - 1s 40ms/step - loss: 0.0737 - val_loss: 0.0924\n",
      "Epoch 50/100\n",
      "22/22 [==============================] - 1s 40ms/step - loss: 0.0719 - val_loss: 0.0903\n",
      "Epoch 51/100\n",
      "22/22 [==============================] - 1s 40ms/step - loss: 0.0714 - val_loss: 0.0885\n",
      "Epoch 52/100\n",
      "22/22 [==============================] - 1s 40ms/step - loss: 0.0710 - val_loss: 0.0876\n",
      "Epoch 53/100\n",
      "22/22 [==============================] - 1s 42ms/step - loss: 0.0691 - val_loss: 0.0891\n",
      "Epoch 54/100\n",
      "22/22 [==============================] - 1s 43ms/step - loss: 0.0794 - val_loss: 0.1074\n",
      "Epoch 55/100\n",
      "22/22 [==============================] - 1s 41ms/step - loss: 0.0865 - val_loss: 0.1069\n",
      "Epoch 56/100\n",
      "22/22 [==============================] - 1s 44ms/step - loss: 0.0854 - val_loss: 0.1058\n",
      "Epoch 57/100\n",
      "22/22 [==============================] - 1s 42ms/step - loss: 0.0813 - val_loss: 0.1034\n",
      "Epoch 58/100\n",
      "22/22 [==============================] - 1s 41ms/step - loss: 0.0775 - val_loss: 0.0993\n",
      "Epoch 59/100\n",
      "22/22 [==============================] - 1s 40ms/step - loss: 0.0733 - val_loss: 0.0960\n",
      "Epoch 60/100\n",
      "22/22 [==============================] - 1s 40ms/step - loss: 0.0711 - val_loss: 0.0909\n",
      "Epoch 61/100\n",
      "22/22 [==============================] - 1s 41ms/step - loss: 546157.5625 - val_loss: 0.5277\n",
      "Epoch 62/100\n",
      "22/22 [==============================] - 1s 40ms/step - loss: 453782700032.0000 - val_loss: 0.1645\n",
      "Epoch 63/100\n",
      "22/22 [==============================] - 1s 40ms/step - loss: 0.1352 - val_loss: 0.1395\n",
      "Epoch 64/100\n",
      "22/22 [==============================] - 1s 42ms/step - loss: 0.1230 - val_loss: 0.1330\n",
      "Epoch 65/100\n",
      "22/22 [==============================] - 1s 43ms/step - loss: 0.1179 - val_loss: 0.1319\n",
      "Epoch 66/100\n",
      "22/22 [==============================] - 1s 41ms/step - loss: 0.1105 - val_loss: 0.1234\n",
      "Epoch 67/100\n",
      "22/22 [==============================] - 1s 44ms/step - loss: 0.1057 - val_loss: 0.1189\n",
      "Epoch 68/100\n",
      "22/22 [==============================] - 1s 42ms/step - loss: 0.1021 - val_loss: 0.1179\n",
      "Epoch 69/100\n",
      "22/22 [==============================] - 1s 42ms/step - loss: 0.0984 - val_loss: 0.1140\n",
      "Epoch 70/100\n",
      "22/22 [==============================] - 1s 39ms/step - loss: 0.0957 - val_loss: 0.1136\n",
      "Epoch 71/100\n",
      "22/22 [==============================] - 1s 41ms/step - loss: 0.0939 - val_loss: 0.1097\n",
      "Epoch 72/100\n",
      "22/22 [==============================] - 1s 42ms/step - loss: 0.0920 - val_loss: 0.1119\n",
      "Epoch 73/100\n",
      "22/22 [==============================] - 1s 41ms/step - loss: 0.0904 - val_loss: 0.1083\n",
      "Epoch 74/100\n",
      "22/22 [==============================] - 1s 43ms/step - loss: 0.0892 - val_loss: 0.1071\n",
      "Epoch 75/100\n",
      "22/22 [==============================] - 1s 45ms/step - loss: 0.0884 - val_loss: 0.1055\n",
      "Epoch 76/100\n",
      "22/22 [==============================] - 1s 41ms/step - loss: 0.0870 - val_loss: 0.1051\n",
      "Epoch 77/100\n",
      "22/22 [==============================] - 1s 41ms/step - loss: 0.0859 - val_loss: 0.1042\n",
      "Epoch 78/100\n",
      "22/22 [==============================] - 1s 44ms/step - loss: 0.0850 - val_loss: 0.1037\n",
      "Epoch 79/100\n",
      "22/22 [==============================] - 1s 42ms/step - loss: 0.0848 - val_loss: 0.1031\n",
      "Epoch 80/100\n",
      "22/22 [==============================] - 1s 42ms/step - loss: 0.0848 - val_loss: 0.1084\n",
      "Epoch 81/100\n",
      "22/22 [==============================] - 1s 43ms/step - loss: 0.0838 - val_loss: 0.1023\n",
      "Epoch 82/100\n",
      "22/22 [==============================] - 1s 44ms/step - loss: 0.0823 - val_loss: 0.1034\n",
      "Epoch 83/100\n",
      "22/22 [==============================] - 1s 41ms/step - loss: 0.0821 - val_loss: 0.1020\n",
      "Epoch 84/100\n",
      "22/22 [==============================] - 1s 45ms/step - loss: 0.0818 - val_loss: 0.1019\n",
      "Epoch 85/100\n",
      "22/22 [==============================] - 1s 41ms/step - loss: 0.0808 - val_loss: 0.1005\n",
      "Epoch 86/100\n",
      "22/22 [==============================] - 1s 45ms/step - loss: 0.0810 - val_loss: 0.1006\n",
      "Epoch 87/100\n",
      "22/22 [==============================] - 1s 40ms/step - loss: 0.0803 - val_loss: 0.1003\n",
      "Epoch 88/100\n",
      "22/22 [==============================] - 1s 40ms/step - loss: 0.0809 - val_loss: 0.1030\n",
      "Epoch 89/100\n",
      "22/22 [==============================] - 1s 45ms/step - loss: 0.0794 - val_loss: 0.1031\n",
      "Epoch 90/100\n",
      "22/22 [==============================] - 1s 45ms/step - loss: 0.0794 - val_loss: 0.0990\n",
      "Epoch 91/100\n",
      "22/22 [==============================] - 1s 41ms/step - loss: 0.0788 - val_loss: 0.0988\n",
      "Epoch 92/100\n",
      "22/22 [==============================] - 1s 41ms/step - loss: 0.0778 - val_loss: 0.0983\n",
      "Epoch 93/100\n",
      "22/22 [==============================] - 1s 41ms/step - loss: 0.0777 - val_loss: 0.0989\n",
      "Epoch 94/100\n",
      "22/22 [==============================] - 1s 42ms/step - loss: 0.0774 - val_loss: 0.1005\n",
      "Epoch 95/100\n",
      "22/22 [==============================] - 1s 41ms/step - loss: 0.0776 - val_loss: 0.0983\n",
      "Epoch 96/100\n",
      "22/22 [==============================] - 1s 43ms/step - loss: 0.0762 - val_loss: 0.0997\n",
      "Epoch 97/100\n",
      "22/22 [==============================] - 1s 41ms/step - loss: 0.0761 - val_loss: 0.0978\n",
      "Epoch 98/100\n",
      "22/22 [==============================] - 1s 41ms/step - loss: 0.0761 - val_loss: 0.0989\n",
      "Epoch 99/100\n",
      "22/22 [==============================] - 1s 40ms/step - loss: 0.0749 - val_loss: 0.0982\n",
      "Epoch 100/100\n",
      "22/22 [==============================] - 1s 40ms/step - loss: 0.0747 - val_loss: 0.0977\n",
      "4/4 [==============================] - 0s 12ms/step - loss: 0.0535\n"
     ]
    }
   ],
   "source": [
    "inputs = keras.Input(shape=train_X.shape[1:], name=\"data\")\n",
    "\n",
    "x = layers.LSTM(64, activation='relu')(inputs)\n",
    "x = layers.RepeatVector(steps_forward)(x)\n",
    "x = layers.LSTM(32, activation='relu', return_sequences=True)(x)\n",
    "x = layers.Dense(32)(x)\n",
    "outputs = layers.TimeDistributed(layers.Dense(features))(x)\n",
    "\n",
    "\n",
    "LSTM = keras.Model(inputs, outputs, name=\"LSTM\")\n",
    "\n",
    "## Compile model\n",
    "LSTM.compile(optimizer='adam', \n",
    "              loss = 'mse')\n",
    "\n",
    "## Relay model summary to user\n",
    "LSTM.summary()\n",
    "\n",
    "## Train model\n",
    "history = LSTM.fit(train_X, train_y, validation_data = (val_X, val_y), epochs=100, verbose=1)\n",
    "\n",
    "## Evalute model accuracy\n",
    "test_loss = LSTM.evaluate(test_X, test_y)"
   ]
  },
  {
   "cell_type": "code",
   "execution_count": 25,
   "id": "bb37caa1",
   "metadata": {
    "tags": []
   },
   "outputs": [
    {
     "data": {
      "image/png": "[encoded data removed]",
      "text/plain": [
       "<Figure size 1080x504 with 2 Axes>"
      ]
     },
     "metadata": {
      "needs_background": "light"
     },
     "output_type": "display_data"
    }
   ],
   "source": [
    "k=np.random.randint(0, test_X.shape[0])\n",
    "\n",
    "inp = test_X[k]\n",
    "inp = inp.reshape(1,inp.shape[0],inp.shape[1])\n",
    "\n",
    "actual = test_y[k]\n",
    "actual = actual.reshape(1,actual.shape[0],actual.shape[1])\n",
    "\n",
    "plt.figure(figsize=(15,7))\n",
    "res = LSTM.predict(inp, verbose=0)\n",
    "n = inp.shape[1]\n",
    "\n",
    "plt.subplot(1,2,1)\n",
    "plt.plot(inp[0,:,0], label='Input data', color='k')\n",
    "\n",
    "plt.plot([n, n], [res[0,0,0], actual[0,0,0]], '0.8')\n",
    "plt.plot(n, res[0,0,0], 'ro', label='Predicted Value')\n",
    "plt.plot(n, actual[0,0,0], 'gs', label='True Value')\n",
    "\n",
    "for i in range(1, res.shape[1]):\n",
    "    plt.plot([n+i, n+i], [res[0,i,0], actual[0,i,0]], '0.8')\n",
    "    plt.plot(n+i, res[0,i,0], 'ro')\n",
    "    plt.plot(n+i, actual[0,i,0], 'gs')\n",
    "\n",
    "plt.xlabel('Steps', fontsize=17)\n",
    "plt.ylabel(\"Var($x'$)\", fontsize=17)\n",
    "\n",
    "plt.xticks(fontsize=15) \n",
    "plt.yticks(fontsize=15)\n",
    "\n",
    "\n",
    "plt.legend(fontsize=16, loc=2)\n",
    "\n",
    "\n",
    "\n",
    "plt.subplot(1,2,2)\n",
    "plt.plot(inp[0,:,1], label='Input data', color='k')\n",
    "\n",
    "plt.plot([n, n], [res[0,0,1], actual[0,0,1]], '0.8')\n",
    "plt.plot(n, res[0,0,1], 'ro')\n",
    "plt.plot(n, actual[0,0,1], 'gs')\n",
    "\n",
    "for i in range(1, res.shape[1]):\n",
    "    plt.plot([n+i, n+i], [res[0,i,1], actual[0,i,1]], '0.8')\n",
    "    plt.plot(n+i, res[0,i,1], 'ro')\n",
    "    plt.plot(n+i, actual[0,i,1], 'gs')\n",
    "\n",
    "plt.xlabel('Steps', fontsize=17)\n",
    "plt.ylabel(\"Cor($x'$)\", fontsize=17)\n",
    "\n",
    "plt.ylim(0,1)\n",
    "plt.xticks(fontsize=15) \n",
    "plt.yticks(fontsize=15)\n",
    "\n",
    "#plt.savefig('LSTM_preds\\LSTM_pred_vb_' + str(k) + '.pdf', dpi=300)\n",
    "#plt.savefig('LSTM_preds\\LSTM_pred_'+str(k)+'.pdf', dpi=300)\n",
    "\n",
    "plt.show()"
   ]
  },
  {
   "cell_type": "markdown",
   "id": "536bca42-261c-44e4-a5cd-0fabbe53f581",
   "metadata": {},
   "source": [
    "Make interactive widget for user to see predictions"
   ]
  },
  {
   "cell_type": "code",
   "execution_count": 26,
   "id": "412d0f27",
   "metadata": {},
   "outputs": [
    {
     "data": {
      "application/vnd.jupyter.widget-view+json": {
       "model_id": "369154f685a8437fa34db8ba27e519e4",
       "version_major": 2,
       "version_minor": 0
      },
      "text/plain": [
       "interactive(children=(IntSlider(value=50, description='k'), Output()), _dom_classes=('widget-interact',))"
      ]
     },
     "metadata": {},
     "output_type": "display_data"
    },
    {
     "data": {
      "image/png": "[encoded data removed]",
      "text/plain": [
       "<Figure size 720x360 with 1 Axes>"
      ]
     },
     "metadata": {
      "needs_background": "light"
     },
     "output_type": "display_data"
    }
   ],
   "source": [
    "@interact(k=(0,100,1))\n",
    "def g(k):\n",
    "    show_pred(test_X[k], test_y[k])"
   ]
  },
  {
   "cell_type": "markdown",
   "id": "2c7f840e-bce1-4ed8-81ad-8698c5cbb461",
   "metadata": {},
   "source": [
    "Next, need to produce predictions for the CNN to learn off of."
   ]
  },
  {
   "cell_type": "code",
   "execution_count": 27,
   "id": "582d31a0-e972-4911-85b9-3ac5fa122b84",
   "metadata": {},
   "outputs": [
    {
     "name": "stdout",
     "output_type": "stream",
     "text": [
      "22/22 [==============================] - 0s 12ms/step\n",
      "7/7 [==============================] - 0s 12ms/step\n",
      "4/4 [==============================] - 0s 16ms/step\n"
     ]
    },
    {
     "data": {
      "text/plain": [
       "((698, 15, 2), (698,))"
      ]
     },
     "execution_count": 27,
     "metadata": {},
     "output_type": "execute_result"
    }
   ],
   "source": [
    "lstm_train_pred = LSTM.predict(train_X)\n",
    "lstm_val_pred = LSTM.predict(val_X)\n",
    "lstm_test_pred = LSTM.predict(test_X)\n",
    "\n",
    "lstm_train_pred.shape, train_labels.shape"
   ]
  },
  {
   "cell_type": "code",
   "execution_count": 28,
   "id": "45dc11b1",
   "metadata": {},
   "outputs": [
    {
     "name": "stdout",
     "output_type": "stream",
     "text": [
      "Model: \"CNN\"\n",
      "_________________________________________________________________\n",
      " Layer (type)                Output Shape              Param #   \n",
      "=================================================================\n",
      " LSTM_data (InputLayer)      [(None, 15, 2)]           0         \n",
      "                                                                 \n",
      " conv1d_2 (Conv1D)           (None, 14, 64)            320       \n",
      "                                                                 \n",
      " max_pooling1d_1 (MaxPooling  (None, 7, 64)            0         \n",
      " 1D)                                                             \n",
      "                                                                 \n",
      " conv1d_3 (Conv1D)           (None, 6, 32)             4128      \n",
      "                                                                 \n",
      " flatten_2 (Flatten)         (None, 192)               0         \n",
      "                                                                 \n",
      " dense_6 (Dense)             (None, 64)                12352     \n",
      "                                                                 \n",
      " dense_7 (Dense)             (None, 1)                 65        \n",
      "                                                                 \n",
      "=================================================================\n",
      "Total params: 16,865\n",
      "Trainable params: 16,865\n",
      "Non-trainable params: 0\n",
      "_________________________________________________________________\n",
      "4/4 [==============================] - 0s 2ms/step - loss: 0.0588 - accuracy: 0.9300\n"
     ]
    }
   ],
   "source": [
    "inputs = keras.Input(shape=(lstm_train_pred.shape[1:]), name=\"LSTM_data\")\n",
    "\n",
    "x = layers.Conv1D(64, 2, activation=\"relu\")(inputs)\n",
    "x = layers.MaxPooling1D(2)(x)\n",
    "x = layers.Conv1D(32, 2, activation=\"relu\")(x)\n",
    "x = layers.Flatten()(x)\n",
    "x = layers.Dense(64)(x)\n",
    "\n",
    "outputs = layers.Dense(1, activation='sigmoid')(x)\n",
    "\n",
    "model_CNN = keras.Model(inputs, outputs, name=\"CNN\")\n",
    "\n",
    "\n",
    "## Compile model\n",
    "model_CNN.compile(optimizer='adam', \n",
    "              loss = 'mse',\n",
    "              metrics=['accuracy'])\n",
    "\n",
    "## Relay model summary to user\n",
    "model_CNN.summary()\n",
    "\n",
    "## Train model\n",
    "model_CNN.fit(lstm_train_pred, train_labels, validation_data = (lstm_val_pred, val_labels), epochs=100, verbose=0)\n",
    "\n",
    "## Evalute model accuracy\n",
    "test_loss, test_acc = model_CNN.evaluate(lstm_test_pred, test_labels)"
   ]
  },
  {
   "cell_type": "markdown",
   "id": "d03522b4-5ca2-41a6-9b3e-3d811a4ef2c0",
   "metadata": {},
   "source": [
    "Using LSTM and CNN, can ask to predict tipping point."
   ]
  },
  {
   "cell_type": "code",
   "execution_count": 29,
   "id": "e29eb600",
   "metadata": {},
   "outputs": [],
   "source": [
    "def predict_tipping(time_series):\n",
    "    \n",
    "    if len(time_series.shape) != 3:\n",
    "        time_series = time_series.reshape(1,time_series.shape[0],time_series.shape[1])\n",
    "    LSTM_pred = LSTM.predict(time_series, verbose=0)\n",
    "    CNN_pred = model_CNN.predict(LSTM_pred, verbose=0)\n",
    "    \n",
    "    return CNN_pred[0,0]"
   ]
  },
  {
   "cell_type": "markdown",
   "id": "f147911a-bbce-4635-9ca3-9b1e6a11e0a7",
   "metadata": {},
   "source": [
    "Ask model to predict on a random test solution.\n",
    "\n",
    "Returns model prediction and true answer."
   ]
  },
  {
   "cell_type": "code",
   "execution_count": 30,
   "id": "66be1e80-3dad-48e1-b895-47e597fd78ec",
   "metadata": {},
   "outputs": [
    {
     "name": "stdout",
     "output_type": "stream",
     "text": [
      "Probability of tipping is 0.058888208\n",
      "Tipping did not occur\n"
     ]
    }
   ],
   "source": [
    "k=np.random.randint(0,len(test_X))\n",
    "\n",
    "pred = predict_tipping(test_X[k])\n",
    "\n",
    "print(\"Probability of tipping is\" , pred)\n",
    "if test_labels[k] == 0:\n",
    "    print(\"Tipping did not occur\")\n",
    "else:\n",
    "    print(\"Tipping did occur\")"
   ]
  },
  {
   "cell_type": "markdown",
   "id": "6abda170-c96f-4611-987b-cf922f71dc55",
   "metadata": {},
   "source": [
    "Save models for use in `thermoacoustic_testing.ipynb`"
   ]
  },
  {
   "cell_type": "code",
   "execution_count": 31,
   "id": "2b7614be-5161-4ccf-b990-5187127cc8ab",
   "metadata": {},
   "outputs": [],
   "source": [
    "# LSTM.save('lstm_model', save_format='h5'), model_CNN.save('cnn_model', save_format='h5')"
   ]
  },
  {
   "cell_type": "markdown",
   "id": "6781ac21-a8c1-4046-996b-2c7c6942b85e",
   "metadata": {},
   "source": [
    "Visualising the performance of networks by using ROC curves"
   ]
  },
  {
   "cell_type": "code",
   "execution_count": 32,
   "id": "26e13048-b6d3-45e2-9ee9-bf35c8e3fdea",
   "metadata": {},
   "outputs": [
    {
     "data": {
      "image/png": "[encoded data removed]",
      "text/plain": [
       "<Figure size 432x288 with 1 Axes>"
      ]
     },
     "metadata": {
      "needs_background": "light"
     },
     "output_type": "display_data"
    }
   ],
   "source": [
    "LSTM_pred = LSTM.predict(test_X, verbose=0)\n",
    "CNN_pred = model_CNN.predict(LSTM_pred, verbose=0)\n",
    "\n",
    "preds = CNN_pred\n",
    "\n",
    "RocCurveDisplay.from_predictions(test_labels, preds, color='b')\n",
    "plt.plot([0,1],[0,1], 'k--')\n",
    "#plt.savefig('ROC_bntip.pdf', dpi=300)\n",
    "plt.show()\n"
   ]
  },
  {
   "cell_type": "code",
   "execution_count": 33,
   "id": "4fd2d467-0d83-435b-9902-58d5e6171135",
   "metadata": {
    "tags": []
   },
   "outputs": [
    {
     "data": {
      "image/png": "[encoded data removed]",
      "text/plain": [
       "<Figure size 432x288 with 1 Axes>"
      ]
     },
     "metadata": {
      "needs_background": "light"
     },
     "output_type": "display_data"
    }
   ],
   "source": [
    "trimmed_var, trimmed_auto, trimmed_labels = trim_data(var_dat, auto_dat, labels, tol=135, tol1=35)\n",
    "normalised_var = z_score_norm(trimmed_var)\n",
    "\n",
    "n = normalised_var.shape[0]\n",
    "\n",
    "test_labels = trimmed_labels[int(0.9*n):]\n",
    "\n",
    "\n",
    "data = np.zeros((normalised_var.shape[0], 2, normalised_var.shape[1]))\n",
    "\n",
    "for i in range(trimmed_auto.shape[0]):\n",
    "    data[i,0] = normalised_var[i]\n",
    "    data[i,1] = trimmed_auto[i]\n",
    "    \n",
    "X,y = create_time_series(data, steps_back, steps_forward, features)\n",
    "test_X = X[int(0.9*n):]\n",
    "\n",
    "LSTM_pred = LSTM.predict(test_X, verbose=0)\n",
    "CNN_pred = model_CNN.predict(LSTM_pred, verbose=0)\n",
    "\n",
    "preds = CNN_pred\n",
    "\n",
    "fpr, tpr, _ = roc_curve(test_labels, preds)\n",
    "auc = round(roc_auc_score(test_labels, preds), 4)\n",
    "plt.plot(fpr,tpr,label=\"50 points back, AUC=\"+str(auc))\n",
    "\n",
    "\n",
    "trimmed_var, trimmed_auto, trimmed_labels = trim_data(var_dat, auto_dat, labels, tol=145, tol1=45)\n",
    "normalised_var = z_score_norm(trimmed_var)\n",
    "\n",
    "n = normalised_var.shape[0]\n",
    "\n",
    "test_labels = trimmed_labels[int(0.9*n):]\n",
    "\n",
    "\n",
    "data = np.zeros((normalised_var.shape[0], 2, normalised_var.shape[1]))\n",
    "\n",
    "for i in range(trimmed_auto.shape[0]):\n",
    "    data[i,0] = normalised_var[i]\n",
    "    data[i,1] = trimmed_auto[i]\n",
    "    \n",
    "X,y = create_time_series(data, steps_back, steps_forward, features)\n",
    "test_X = X[int(0.9*n):]\n",
    "\n",
    "LSTM_pred = LSTM.predict(test_X, verbose=0)\n",
    "CNN_pred = model_CNN.predict(LSTM_pred, verbose=0)\n",
    "\n",
    "preds = CNN_pred\n",
    "\n",
    "fpr, tpr, _ = roc_curve(test_labels, preds)\n",
    "auc = round(roc_auc_score(test_labels, preds), 4)\n",
    "plt.plot(fpr,tpr,label=\"60 points back, AUC=\"+str(auc))\n",
    "\n",
    "\n",
    "\n",
    "trimmed_var, trimmed_auto, trimmed_labels = trim_data(var_dat, auto_dat, labels, tol=155, tol1=55)\n",
    "normalised_var = z_score_norm(trimmed_var)\n",
    "\n",
    "n = normalised_var.shape[0]\n",
    "\n",
    "test_labels = trimmed_labels[int(0.9*n):]\n",
    "\n",
    "\n",
    "data = np.zeros((normalised_var.shape[0], 2, normalised_var.shape[1]))\n",
    "\n",
    "for i in range(trimmed_auto.shape[0]):\n",
    "    data[i,0] = normalised_var[i]\n",
    "    data[i,1] = trimmed_auto[i]\n",
    "    \n",
    "X,y = create_time_series(data, steps_back, steps_forward, features)\n",
    "test_X = X[int(0.9*n):]\n",
    "\n",
    "LSTM_pred = LSTM.predict(test_X, verbose=0)\n",
    "CNN_pred = model_CNN.predict(LSTM_pred, verbose=0)\n",
    "\n",
    "preds = CNN_pred\n",
    "\n",
    "fpr, tpr, _ = roc_curve(test_labels, preds)\n",
    "auc = round(roc_auc_score(test_labels, preds), 4)\n",
    "plt.plot(fpr,tpr,label=\"70 points back, AUC=\"+str(auc))\n",
    "\n",
    "\n",
    "\n",
    "trimmed_var, trimmed_auto, trimmed_labels = trim_data(var_dat, auto_dat, labels, tol=115, tol1=15)\n",
    "normalised_var = z_score_norm(trimmed_var)\n",
    "\n",
    "n = normalised_var.shape[0]\n",
    "\n",
    "test_labels = trimmed_labels[int(0.9*n):]\n",
    "\n",
    "\n",
    "data = np.zeros((normalised_var.shape[0], 2, normalised_var.shape[1]))\n",
    "\n",
    "for i in range(trimmed_auto.shape[0]):\n",
    "    data[i,0] = normalised_var[i]\n",
    "    data[i,1] = trimmed_auto[i]\n",
    "    \n",
    "X,y = create_time_series(data, steps_back, steps_forward, features)\n",
    "test_X = X[int(0.9*n):]\n",
    "\n",
    "LSTM_pred = LSTM.predict(test_X, verbose=0)\n",
    "CNN_pred = model_CNN.predict(LSTM_pred, verbose=0)\n",
    "\n",
    "preds = CNN_pred\n",
    "\n",
    "fpr, tpr, _ = roc_curve(test_labels, preds)\n",
    "auc = round(roc_auc_score(test_labels, preds), 4)\n",
    "plt.plot(fpr,tpr,label=\"30 points back, AUC=\"+str(auc))\n",
    "\n",
    "\n",
    "\n",
    "\n",
    "plt.plot([0,1],[0,1], 'k--')\n",
    "\n",
    "plt.legend()\n",
    "\n",
    "\n",
    "plt.xlabel('False Positive Rate (1-Specificity)', fontsize=14)\n",
    "plt.ylabel('True Positive Rate (Sensitivity)', fontsize=14)\n",
    "\n",
    "#plt.savefig('ROC_bntip.pdf', dpi=300)\n",
    "\n",
    "plt.show()"
   ]
  },
  {
   "cell_type": "markdown",
   "id": "70eb819e-bfcb-4a98-943e-bb8ce706c19c",
   "metadata": {},
   "source": [
    "Evaluate LSTM predictions."
   ]
  },
  {
   "cell_type": "code",
   "execution_count": 34,
   "id": "e96ad067-f968-44ef-b607-cd23643d898d",
   "metadata": {},
   "outputs": [
    {
     "name": "stdout",
     "output_type": "stream",
     "text": [
      "4/4 [==============================] - 0s 12ms/step - loss: 0.0535\n"
     ]
    },
    {
     "data": {
      "text/plain": [
       "0.05354410037398338"
      ]
     },
     "execution_count": 34,
     "metadata": {},
     "output_type": "execute_result"
    }
   ],
   "source": [
    "trimmed_var, trimmed_auto, trimmed_labels = trim_data(var_dat, auto_dat, labels, tol=135, tol1=35)\n",
    "normalised_var = z_score_norm(trimmed_var)\n",
    "\n",
    "n = normalised_var.shape[0]\n",
    "\n",
    "test_labels = trimmed_labels[int(0.9*n):]\n",
    "\n",
    "\n",
    "data = np.zeros((normalised_var.shape[0], 2, normalised_var.shape[1]))\n",
    "\n",
    "for i in range(trimmed_auto.shape[0]):\n",
    "    data[i,0] = normalised_var[i]\n",
    "    data[i,1] = trimmed_auto[i]\n",
    "    \n",
    "X,y = create_time_series(data, steps_back, steps_forward, features)\n",
    "test_X, test_y = X[int(0.9*n):], y[int(0.9*n):]\n",
    "LSTM.evaluate(test_X, test_y)"
   ]
  },
  {
   "cell_type": "markdown",
   "id": "7e577054",
   "metadata": {},
   "source": [
    "____"
   ]
  },
  {
   "cell_type": "markdown",
   "id": "6749fb2e",
   "metadata": {},
   "source": [
    "## R-Tipping Prediction"
   ]
  },
  {
   "cell_type": "markdown",
   "id": "d40d2c66-01a3-4172-b87d-d2f3cdfc31c9",
   "metadata": {},
   "source": [
    "Next, we look at predicting R-tipping.\n",
    "\n",
    "We begin by reading in data generated from `R-Tipping.ipynb`"
   ]
  },
  {
   "cell_type": "code",
   "execution_count": 35,
   "id": "7bafb8c4",
   "metadata": {},
   "outputs": [
    {
     "data": {
      "text/plain": [
       "(1000, 1001)"
      ]
     },
     "execution_count": 35,
     "metadata": {},
     "output_type": "execute_result"
    }
   ],
   "source": [
    "data_r = np.genfromtxt('data_rtip.csv', delimiter=',')\n",
    "data_r.shape"
   ]
  },
  {
   "cell_type": "markdown",
   "id": "21c50609-a809-4fc7-8ff7-73766a5118a7",
   "metadata": {},
   "source": [
    "Visualising sample solutions from dataset. Red represents systems which tipped, while blue represents systems which have not tipped."
   ]
  },
  {
   "cell_type": "code",
   "execution_count": 36,
   "id": "19de299f-e402-4f16-a007-0005f20caa15",
   "metadata": {},
   "outputs": [
    {
     "data": {
      "image/png": "[encoded data removed]",
      "text/plain": [
       "<Figure size 864x720 with 8 Axes>"
      ]
     },
     "metadata": {
      "needs_background": "light"
     },
     "output_type": "display_data"
    }
   ],
   "source": [
    "plt.figure(1,(12,10))\n",
    "for i in range(1, 9):\n",
    "    plt.subplot(2,4,i)\n",
    "    k = np.random.randint(0,data_r.shape[0])\n",
    "    if data_r[k,0] == 1:\n",
    "        plt.plot(data_r[k,1:], 'r')\n",
    "        plt.xlim(-0.01,np.argmax(data_r[k,1:]))\n",
    "        plt.xlabel(\"Tipping has occurred\")\n",
    "    else:\n",
    "        plt.plot(data_r[k,1:], 'b')"
   ]
  },
  {
   "cell_type": "markdown",
   "id": "5f5f6f8a-5835-4bed-a6d8-2cfc863fafd7",
   "metadata": {},
   "source": [
    "Splitting a solution into variance, AC and labels as before"
   ]
  },
  {
   "cell_type": "code",
   "execution_count": null,
   "id": "469d47ae",
   "metadata": {},
   "outputs": [],
   "source": [
    "n = int(data_r.shape[1] * 0.1)\n",
    "k = 1\n",
    "\n",
    "r_labels = data_r[:,0].astype(int)\n",
    "\n",
    "r_var_dat = var_data(data_r[:,1:], n)\n",
    "\n",
    "r_auto_dat = auto_data(data_r[:,1:], n-k, k)"
   ]
  },
  {
   "cell_type": "markdown",
   "id": "9959fcbc-eb72-4d8c-8f61-52689cda470c",
   "metadata": {},
   "source": [
    "Again, previous cell takes time, may be better to save result for future running."
   ]
  },
  {
   "cell_type": "code",
   "execution_count": null,
   "id": "b55b92b5-d3f6-4dc8-bdf0-cea9d9cb290a",
   "metadata": {},
   "outputs": [],
   "source": [
    "# np.savetxt('r_var_dat.csv', r_var_dat, delimiter=',')\n",
    "# np.savetxt('r_auto_dat.csv', r_auto_dat, delimiter=',')"
   ]
  },
  {
   "cell_type": "markdown",
   "id": "6a507ab4-8e36-46c8-aa7a-d5d8747dc464",
   "metadata": {},
   "source": [
    "Depicting sample variance and AC"
   ]
  },
  {
   "cell_type": "code",
   "execution_count": null,
   "id": "1d1cc210",
   "metadata": {},
   "outputs": [],
   "source": [
    "for i in range(1, 6):\n",
    "    plt.subplot(2,5,i)\n",
    "    k = np.random.randint(0,r_var_dat.shape[0])\n",
    "    if r_labels[k] == 1:\n",
    "        plt.plot(r_auto_dat[k], 'r')\n",
    "        plt.xlabel(\"Tipping has occurred\")\n",
    "    else:\n",
    "        plt.plot(r_auto_dat[k], 'b')\n",
    "    plt.ylim((0,1.1))\n",
    "\n",
    "    plt.subplot(2,5,i+5)\n",
    "    \n",
    "    if r_labels[k] == 1:\n",
    "        plt.plot(r_var_dat[k], 'r')\n",
    "        plt.xlabel(\"Tipping has occurred\")\n",
    "    else:\n",
    "        plt.plot(r_var_dat[k], 'b')\n",
    "    plt.ylim((0,1.1))"
   ]
  },
  {
   "cell_type": "markdown",
   "id": "fa1f2cbb-edb9-4bcf-8b3c-21bb53ac1687",
   "metadata": {},
   "source": [
    "Trimming and normalising dataset as we did before"
   ]
  },
  {
   "cell_type": "code",
   "execution_count": null,
   "id": "8402ef55-2e9a-4bc7-abe5-1dad38d45f00",
   "metadata": {},
   "outputs": [],
   "source": [
    "trimmed_r_var, trimmed_r_auto, trimmed_r_labels = trim_r_data(r_var_dat, r_auto_dat, r_labels, 135,35)"
   ]
  },
  {
   "cell_type": "code",
   "execution_count": null,
   "id": "1b80f39e",
   "metadata": {},
   "outputs": [],
   "source": [
    "normalised_rvar = z_score_norm(trimmed_r_var)"
   ]
  },
  {
   "cell_type": "code",
   "execution_count": null,
   "id": "439d7311",
   "metadata": {},
   "outputs": [],
   "source": [
    "normalised_rvar.shape"
   ]
  },
  {
   "cell_type": "markdown",
   "id": "ce6cc8f7-8d22-4375-bad3-b3af248d1f48",
   "metadata": {},
   "source": [
    "Check amount of tipping systems still present."
   ]
  },
  {
   "cell_type": "code",
   "execution_count": null,
   "id": "d04084ae",
   "metadata": {},
   "outputs": [],
   "source": [
    "np.sum(trimmed_r_labels)"
   ]
  },
  {
   "cell_type": "markdown",
   "id": "d3c97dc5-f8e2-4351-922b-4eb530891316",
   "metadata": {},
   "source": [
    "Depicting more sample variances and AC"
   ]
  },
  {
   "cell_type": "code",
   "execution_count": null,
   "id": "17d7b1ab",
   "metadata": {},
   "outputs": [],
   "source": [
    "k = np.random.randint(0, normalised_rvar.shape[0])\n",
    "\n",
    "plt.subplot(2,1,1)\n",
    "plt.plot(normalised_rvar[k], label='var')\n",
    "plt.ylabel('Var')\n",
    "\n",
    "plt.subplot(2,1,2)\n",
    "plt.plot(trimmed_r_auto[k], label='auto')\n",
    "plt.ylabel('AC')\n",
    "\n",
    "plt.show()"
   ]
  },
  {
   "cell_type": "markdown",
   "id": "2ea88fd1-c847-4f0c-bdd4-d1723c4ceecf",
   "metadata": {},
   "source": [
    "Constructing dataset as before"
   ]
  },
  {
   "cell_type": "code",
   "execution_count": null,
   "id": "3fcbc9aa",
   "metadata": {
    "tags": []
   },
   "outputs": [],
   "source": [
    "test_r = np.zeros((normalised_rvar.shape[0], 2, normalised_rvar.shape[1]))\n",
    "\n",
    "for i in range(trimmed_r_auto.shape[0]):\n",
    "    test_r[i,0] = normalised_rvar[i]\n",
    "    test_r[i,1] = trimmed_r_auto[i]\n",
    "\n",
    "test_r.shape, normalised_rvar[0,:10], trimmed_r_auto[0,:10], test_r[0,0,0:10], test_r[0,1,0:10]"
   ]
  },
  {
   "cell_type": "markdown",
   "id": "c9cbb9af-e8a5-4fec-b3b3-9459cdadcaa7",
   "metadata": {},
   "source": [
    "Creating time-series from dataset."
   ]
  },
  {
   "cell_type": "code",
   "execution_count": null,
   "id": "ed192d69",
   "metadata": {},
   "outputs": [],
   "source": [
    "steps_back = 85\n",
    "steps_forward = 15\n",
    "features = test_r.shape[1]\n",
    "\n",
    "test_rX, test_ry = create_time_series(test_r, steps_back, steps_forward, features)\n",
    "k = np.random.randint(0, 20)\n",
    "plt.plot(test_r[k,0])\n",
    "plt.plot(np.arange(test_r.shape[2]-steps_forward-5, test_r.shape[2]-5), test_ry[k,:,0], 'ro')\n",
    "plt.plot(np.arange(test_r.shape[2]-(steps_back+steps_forward)-5, test_r.shape[2] - steps_forward-5), test_rX[k,:,0])\n",
    "\n",
    "plt.show()\n",
    "test_rX.shape, test_ry.shape"
   ]
  },
  {
   "cell_type": "markdown",
   "id": "1df8a35e-992f-44f0-b94e-ead3cb2ba72b",
   "metadata": {},
   "source": [
    "Interactable widget for user to look at model predictions"
   ]
  },
  {
   "cell_type": "code",
   "execution_count": null,
   "id": "5bba0121-2a22-4fce-ac26-ac01178e4442",
   "metadata": {},
   "outputs": [],
   "source": [
    "@interact(k=(0,test_rX.shape[0],1))\n",
    "def g(k):\n",
    "    show_pred(test_rX[k], test_ry[k])"
   ]
  },
  {
   "cell_type": "code",
   "execution_count": null,
   "id": "b419a8f8",
   "metadata": {},
   "outputs": [],
   "source": [
    "k = np.random.randint(0,test_rX.shape[0])\n",
    "pred = predict_tipping(test_rX[k])\n",
    "\n",
    "print(\"Probability of tipping is\" , pred)\n",
    "\n",
    "if trimmed_r_labels[k] == 0:\n",
    "    print(\"Tipping did not occur\")\n",
    "else:\n",
    "    print(\"Tipping did occur\")\n",
    "\n",
    "show_pred(test_rX[k], test_ry[k])"
   ]
  },
  {
   "cell_type": "code",
   "execution_count": null,
   "id": "eeb32497",
   "metadata": {},
   "outputs": [],
   "source": [
    "#k=np.random.randint(0,test_rX.shape[0])\n",
    "\n",
    "inp = test_rX[k]\n",
    "inp = inp.reshape(1,inp.shape[0],inp.shape[1])\n",
    "\n",
    "actual = test_ry[k]\n",
    "actual = actual.reshape(1,actual.shape[0],actual.shape[1])\n",
    "\n",
    "plt.figure(figsize=(15,7))\n",
    "res = LSTM.predict(inp, verbose=0)\n",
    "n = inp.shape[1]\n",
    "\n",
    "plt.subplot(1,2,1)\n",
    "plt.plot(inp[0,:,0], label='Input data', color='k')\n",
    "\n",
    "plt.plot([n, n], [res[0,0,0], actual[0,0,0]], '0.8')\n",
    "plt.plot(n, res[0,0,0], 'ro', label='Predicted Value')\n",
    "plt.plot(n, actual[0,0,0], 'gs', label='True Value')\n",
    "\n",
    "for i in range(1, res.shape[1]):\n",
    "    plt.plot([n+i, n+i], [res[0,i,0], actual[0,i,0]], '0.8')\n",
    "    plt.plot(n+i, res[0,i,0], 'ro')\n",
    "    plt.plot(n+i, actual[0,i,0], 'gs')\n",
    "\n",
    "plt.xlabel('Steps', fontsize=17)\n",
    "plt.ylabel(\"Var($x'$)\", fontsize=17)\n",
    "\n",
    "#plt.ylim(0,1)\n",
    "plt.xticks(fontsize=15) \n",
    "plt.yticks(fontsize=15)\n",
    "\n",
    "\n",
    "plt.legend(fontsize=16, loc=2)\n",
    "\n",
    "\n",
    "\n",
    "plt.subplot(1,2,2)\n",
    "plt.plot(inp[0,:,1], label='Input data', color='k')\n",
    "\n",
    "plt.plot([n, n], [res[0,0,1], actual[0,0,1]], '0.8')\n",
    "plt.plot(n, res[0,0,1], 'ro')\n",
    "plt.plot(n, actual[0,0,1], 'gs')\n",
    "\n",
    "for i in range(1, res.shape[1]):\n",
    "    plt.plot([n+i, n+i], [res[0,i,1], actual[0,i,1]], '0.8')\n",
    "    plt.plot(n+i, res[0,i,1], 'ro')\n",
    "    plt.plot(n+i, actual[0,i,1], 'gs')\n",
    "\n",
    "plt.xlabel('Steps', fontsize=17)\n",
    "plt.ylabel(\"Cor($x'$)\", fontsize=17)\n",
    "\n",
    "plt.ylim(0,1.01)\n",
    "plt.xticks(fontsize=15) \n",
    "plt.yticks(fontsize=15)\n",
    "\n",
    "#plt.savefig('LSTM_preds/r_pred_vg_' + str(k) + '.pdf', dpi=300)\n",
    "\n",
    "plt.show()"
   ]
  },
  {
   "cell_type": "markdown",
   "id": "628a3e23-43e5-44ce-a33a-b42a2cc071c1",
   "metadata": {},
   "source": [
    "Get ROC curve for LSTM-CNN on R-tipping data"
   ]
  },
  {
   "cell_type": "code",
   "execution_count": null,
   "id": "09448c12-8a59-443c-b737-e67975766240",
   "metadata": {},
   "outputs": [],
   "source": [
    "LSTM_pred = LSTM.predict(test_rX, verbose=0)\n",
    "CNN_pred = model_CNN.predict(LSTM_pred, verbose=0)\n",
    "\n",
    "preds = CNN_pred\n",
    "\n",
    "RocCurveDisplay.from_predictions(trimmed_r_labels, preds, color='b')\n",
    "plt.plot([0,1],[0,1], 'k--')\n",
    "#plt.savefig('ROC_rtip.pdf', dpi=300)\n",
    "plt.show()"
   ]
  },
  {
   "cell_type": "code",
   "execution_count": null,
   "id": "f2e3d9cf-d957-4d0f-a973-834ec88c71a0",
   "metadata": {},
   "outputs": [],
   "source": [
    "trimmed_r_var, trimmed_r_auto, trimmed_r_labels = trim_r_data(r_var_dat, r_auto_dat, r_labels, tol=135, tol1=35)\n",
    "normalised_rvar = z_score_norm(trimmed_r_var)\n",
    "\n",
    "test_r = np.zeros((normalised_rvar.shape[0], 2, normalised_rvar.shape[1]))\n",
    "\n",
    "for i in range(trimmed_r_auto.shape[0]):\n",
    "    test_r[i,0] = normalised_rvar[i]\n",
    "    test_r[i,1] = trimmed_r_auto[i]\n",
    "    \n",
    "test_rX, test_ry = create_time_series(test_r, steps_back, steps_forward, features)\n",
    "\n",
    "\n",
    "LSTM_pred = LSTM.predict(test_rX, verbose=0)\n",
    "CNN_pred = model_CNN.predict(LSTM_pred, verbose=0)\n",
    "\n",
    "preds = CNN_pred\n",
    "\n",
    "fpr, tpr, _ = roc_curve(trimmed_r_labels, preds)\n",
    "auc = round(roc_auc_score(trimmed_r_labels, preds), 4)\n",
    "plt.plot(fpr,tpr,label=\"50 points back, AUC=\"+str(auc))\n",
    "\n",
    "\n",
    "\n",
    "\n",
    "trimmed_r_var, trimmed_r_auto, trimmed_r_labels = trim_r_data(r_var_dat, r_auto_dat, r_labels, tol=145, tol1=45)\n",
    "normalised_rvar = z_score_norm(trimmed_r_var)\n",
    "\n",
    "test_r = np.zeros((normalised_rvar.shape[0], 2, normalised_rvar.shape[1]))\n",
    "\n",
    "for i in range(trimmed_r_auto.shape[0]):\n",
    "    test_r[i,0] = normalised_rvar[i]\n",
    "    test_r[i,1] = trimmed_r_auto[i]\n",
    "    \n",
    "test_rX, test_ry = create_time_series(test_r, steps_back, steps_forward, features)\n",
    "\n",
    "\n",
    "LSTM_pred = LSTM.predict(test_rX, verbose=0)\n",
    "CNN_pred = model_CNN.predict(LSTM_pred, verbose=0)\n",
    "\n",
    "preds = CNN_pred\n",
    "\n",
    "fpr, tpr, _ = roc_curve(trimmed_r_labels, preds)\n",
    "auc = round(roc_auc_score(trimmed_r_labels, preds), 4)\n",
    "plt.plot(fpr,tpr,label=\"60 points back, AUC=\"+str(auc))\n",
    "\n",
    "\n",
    "\n",
    "\n",
    "\n",
    "trimmed_r_var, trimmed_r_auto, trimmed_r_labels = trim_r_data(r_var_dat, r_auto_dat, r_labels, tol=155, tol1=55)\n",
    "normalised_rvar = z_score_norm(trimmed_r_var)\n",
    "\n",
    "test_r = np.zeros((normalised_rvar.shape[0], 2, normalised_rvar.shape[1]))\n",
    "\n",
    "for i in range(trimmed_r_auto.shape[0]):\n",
    "    test_r[i,0] = normalised_rvar[i]\n",
    "    test_r[i,1] = trimmed_r_auto[i]\n",
    "    \n",
    "test_rX, test_ry = create_time_series(test_r, steps_back, steps_forward, features)\n",
    "\n",
    "\n",
    "LSTM_pred = LSTM.predict(test_rX, verbose=0)\n",
    "CNN_pred = model_CNN.predict(LSTM_pred, verbose=0)\n",
    "\n",
    "preds = CNN_pred\n",
    "\n",
    "fpr, tpr, _ = roc_curve(trimmed_r_labels, preds)\n",
    "auc = round(roc_auc_score(trimmed_r_labels, preds), 4)\n",
    "plt.plot(fpr,tpr,label=\"70 points back, AUC=\"+str(auc))\n",
    "\n",
    "\n",
    "\n",
    "\n",
    "trimmed_r_var, trimmed_r_auto, trimmed_r_labels = trim_r_data(r_var_dat, r_auto_dat, r_labels, tol=115, tol1=15)\n",
    "normalised_rvar = z_score_norm(trimmed_r_var)\n",
    "\n",
    "test_r = np.zeros((normalised_rvar.shape[0], 2, normalised_rvar.shape[1]))\n",
    "\n",
    "for i in range(trimmed_r_auto.shape[0]):\n",
    "    test_r[i,0] = normalised_rvar[i]\n",
    "    test_r[i,1] = trimmed_r_auto[i]\n",
    "    \n",
    "test_rX, test_ry = create_time_series(test_r, steps_back, steps_forward, features)\n",
    "\n",
    "\n",
    "LSTM_pred = LSTM.predict(test_rX, verbose=0)\n",
    "CNN_pred = model_CNN.predict(LSTM_pred, verbose=0)\n",
    "\n",
    "preds = CNN_pred\n",
    "\n",
    "fpr, tpr, _ = roc_curve(trimmed_r_labels, preds)\n",
    "auc = round(roc_auc_score(trimmed_r_labels, preds), 4)\n",
    "plt.plot(fpr,tpr,label=\"30 points back, AUC=\"+str(auc))\n",
    "\n",
    "\n",
    "\n",
    "\n",
    "plt.plot([0,1],[0,1], 'k--')\n",
    "\n",
    "\n",
    "plt.xlabel('False Positive Rate (1-Specificity)', fontsize=14)\n",
    "plt.ylabel('True Positive Rate (Sensitivity)', fontsize=14)\n",
    "\n",
    "plt.legend()\n",
    "\n",
    "#plt.savefig('ROC_rtip.pdf', dpi=300)\n",
    "\n",
    "plt.show()"
   ]
  },
  {
   "cell_type": "markdown",
   "id": "eaef69d9-35c7-40d5-b89a-26af9fd2555a",
   "metadata": {},
   "source": [
    "Another model save checkpoint"
   ]
  },
  {
   "cell_type": "code",
   "execution_count": null,
   "id": "02bfe50f-b6bb-4e85-a95a-a91b6e23bf84",
   "metadata": {},
   "outputs": [],
   "source": [
    "#LSTM.save('lstm_model', save_format='h5'), model_CNN.save('cnn_model', save_format='h5')"
   ]
  },
  {
   "cell_type": "markdown",
   "id": "32eb18f7-532a-4e25-a703-bbc3303d95fa",
   "metadata": {},
   "source": [
    "Evaluating LSTM on R-tipping"
   ]
  },
  {
   "cell_type": "code",
   "execution_count": null,
   "id": "f645f34d-b60c-4bca-8bbe-b06c8c5b5f93",
   "metadata": {},
   "outputs": [],
   "source": [
    "trimmed_r_var, trimmed_r_auto, trimmed_r_labels = trim_r_data(r_var_dat, r_auto_dat, r_labels, tol=135, tol1=35)\n",
    "normalised_rvar = z_score_norm(trimmed_r_var)\n",
    "\n",
    "test_r = np.zeros((normalised_rvar.shape[0], 2, normalised_rvar.shape[1]))\n",
    "\n",
    "for i in range(trimmed_r_auto.shape[0]):\n",
    "    test_r[i,0] = normalised_rvar[i]\n",
    "    test_r[i,1] = trimmed_r_auto[i]\n",
    "    \n",
    "test_rX, test_ry = create_time_series(test_r, steps_back, steps_forward, features)\n",
    "\n",
    "LSTM.evaluate(test_rX, test_ry, verbose=1)"
   ]
  }
 ],
 "metadata": {
  "kernelspec": {
   "display_name": "Python 3 (ipykernel)",
   "language": "python",
   "name": "python3"
  },
  "language_info": {
   "codemirror_mode": {
    "name": "ipython",
    "version": 3
   },
   "file_extension": ".py",
   "mimetype": "text/x-python",
   "name": "python",
   "nbconvert_exporter": "python",
   "pygments_lexer": "ipython3",
   "version": "3.9.7"
  }
 },
 "nbformat": 4,
 "nbformat_minor": 5
}
