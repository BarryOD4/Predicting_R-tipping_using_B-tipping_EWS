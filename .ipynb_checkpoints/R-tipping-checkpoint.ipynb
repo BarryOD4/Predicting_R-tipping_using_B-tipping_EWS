{
 "cells": [
  {
   "cell_type": "markdown",
   "id": "34bd6f55",
   "metadata": {},
   "source": [
    "Begin by importing necessary libraries."
   ]
  },
  {
   "cell_type": "code",
   "execution_count": 7,
   "id": "2f875609",
   "metadata": {},
   "outputs": [],
   "source": [
    "import numpy as np\n",
    "import matplotlib.pyplot as plt\n",
    "\n",
    "from ipywidgets import interact, interactive, fixed, interact_manual\n",
    "import ipywidgets as widgets"
   ]
  },
  {
   "cell_type": "markdown",
   "id": "3622c71d",
   "metadata": {},
   "source": [
    "Define numerical methods to solve ODEs"
   ]
  },
  {
   "cell_type": "code",
   "execution_count": 8,
   "id": "809cff14",
   "metadata": {},
   "outputs": [],
   "source": [
    "def EuMaR(func, lamb, X0, lamb0, r, params=None, tstart=0, tend=1, steps=10, sigma = 0.03):\n",
    "    \"\"\"\n",
    "    Euler-Maruyama Method for solving SDEs for R-tipping toy model.\n",
    "    \n",
    "    func := function, ex.dx/dt = ax + b == params[0] * x + params[1],\n",
    "    lamb := function, parameter for R-tipping toy model,\n",
    "    X0 := float, initial position,\n",
    "    lamb0 := float, initial lambda value,\n",
    "    r := numpy array, array of r values being inspected,\n",
    "    params := array, list of parameters for func,\n",
    "    tstart / tend := float, starting time / ending time,\n",
    "    steps := int, no. of iterations,\n",
    "    sigma := float, scale for amount of noise in system.\n",
    "    \"\"\"\n",
    "    \n",
    "    ## Initialise time vector\n",
    "    ##  Calculate dt for Euler Method\n",
    "    t = np.linspace(tstart,tend,steps)\n",
    "    dt = abs(t[0]-t[1])\n",
    "    \n",
    "    ## Init. solution vector.\n",
    "    ##  set initial value\n",
    "    sol = np.ones([steps])\n",
    "    sol[0] = X0\n",
    "    lamb_i = lamb0\n",
    "    \n",
    "    ## Begin Euler-Maruyama method\n",
    "    for i in range(1, steps):\n",
    "        params[0] = lamb_i\n",
    "        temp = sol[i-1] + func(sol[i-1], t=t[i-2], params=params) * dt +  sigma * np.random.random() * (np.random.randint(0,1)*2-1)\n",
    "        \n",
    "        \n",
    "        sol[i] = temp\n",
    "        lamb_i = lamb_i + lamb(r, t=t[i-2]) * dt\n",
    "        \n",
    "        ## Attempt to remedy float overflow\n",
    "        if temp > 0:\n",
    "            return sol, i\n",
    "        \n",
    "    ## Return Euler-Maruyama solution to SDE\n",
    "    return sol, i"
   ]
  },
  {
   "cell_type": "markdown",
   "id": "4884cc8e-e6e2-4487-a427-4dbb08f6bbb3",
   "metadata": {},
   "source": [
    "Defining 2-d ODE which can have an R-tipping point"
   ]
  },
  {
   "cell_type": "code",
   "execution_count": 9,
   "id": "f1d25117",
   "metadata": {},
   "outputs": [],
   "source": [
    "f = lambda x,t,params: (x + params[0])**2 - params[1]\n",
    "lamb = lambda r,t: r"
   ]
  },
  {
   "cell_type": "markdown",
   "id": "698036e4-b5e0-4654-a262-2628e3b89562",
   "metadata": {},
   "source": [
    "Interactable widget for"
   ]
  },
  {
   "cell_type": "code",
   "execution_count": 11,
   "id": "0e63fbac",
   "metadata": {},
   "outputs": [
    {
     "data": {
      "application/vnd.jupyter.widget-view+json": {
       "model_id": "aae4d9df6ebf4ce9b88e59b7ccfb3da2",
       "version_major": 2,
       "version_minor": 0
      },
      "text/plain": [
       "interactive(children=(FloatSlider(value=1.0, description='mu', max=2.0, step=0.01), FloatSlider(value=0.0, des…"
      ]
     },
     "metadata": {},
     "output_type": "display_data"
    }
   ],
   "source": [
    "@interact(mu=(0,2,0.01), r=(0.01,2,0.01), lamb0=(-5,5,0.1), tend=(0,1000,1), dt=(0.01,2,0.01), sigma=(0,2,0.001))\n",
    "def g(mu, lamb0,r,tend,dt,sigma,):\n",
    "    \n",
    "    X0 = 0\n",
    "\n",
    "    steps = int(tend/dt)\n",
    "    \n",
    "    params = np.array([lamb0, mu])\n",
    "    t = np.linspace(0,tend,steps)\n",
    "    \n",
    "    a, end = EuMaR(f, lamb, X0, lamb0, r=r, params=params, tend=tend, steps=steps, sigma=sigma)\n",
    "\n",
    "\n",
    "    plt.plot(t[:end], a[:end])\n",
    "    plt.show()"
   ]
  },
  {
   "cell_type": "code",
   "execution_count": 12,
   "id": "1675dc29",
   "metadata": {},
   "outputs": [
    {
     "data": {
      "application/vnd.jupyter.widget-view+json": {
       "model_id": "ba38f1ad7c7e40dbaa6fbcc8b64759c3",
       "version_major": 2,
       "version_minor": 0
      },
      "text/plain": [
       "interactive(children=(FloatSlider(value=1.0, description='mu', max=2.0, step=0.01), FloatSlider(value=0.0, des…"
      ]
     },
     "metadata": {},
     "output_type": "display_data"
    }
   ],
   "source": [
    "@interact(mu=(0,2,0.01), rstart=(0,2,0.01), rend=(0,2,0.01), X0=(-2,2,0.1), lamb0=(-5,5,0.1), tend=(0,1000,1), dt=(0.01,2,0.01), sigma=(0,2,0.001), n=(10,200,10))\n",
    "def g(mu, X0, lamb0, rstart, rend,tend,dt,sigma,n):\n",
    "\n",
    "    r = np.linspace(rstart,rend,n)\n",
    "    \n",
    "    steps = int(tend/dt)\n",
    "    \n",
    "    params = np.array([lamb0, mu])\n",
    "    t = np.linspace(0,tend,steps)\n",
    "    tot = 0\n",
    "    for i in range(n):\n",
    "        a, end = EuMaR(f, lamb, X0, lamb0, r=r[i], params=params, tend=tend, steps=steps, sigma=sigma)\n",
    "\n",
    "        \n",
    "        plt.plot(t[:end], a[:end])\n",
    "\n",
    "    #plt.ylim(-3,2)\n",
    "    plt.xlim(1.5,3.6)\n",
    "    plt.show()"
   ]
  },
  {
   "cell_type": "code",
   "execution_count": 312,
   "id": "2c6183e1-81ce-4dc3-9b11-996b8196c46c",
   "metadata": {},
   "outputs": [
    {
     "name": "stdout",
     "output_type": "stream",
     "text": [
      "1.0\n"
     ]
    },
    {
     "data": {
      "image/png": "[encoded data removed]",
      "text/plain": [
       "<Figure size 504x360 with 1 Axes>"
      ]
     },
     "metadata": {
      "needs_background": "light"
     },
     "output_type": "display_data"
    }
   ],
   "source": [
    "n = 30\n",
    "sigma = 0.00\n",
    "\n",
    "X0 = 0\n",
    "lamb0 = 0\n",
    "tend = 10\n",
    "dt = 0.1\n",
    "\n",
    "mu = 1.5\n",
    "r = np.linspace(1.51,1.55,n)\n",
    "\n",
    "params = np.array([lamb0, mu])\n",
    "#t = np.linspace(0,tend,1000)\n",
    "t = np.arange(0,tend,dt)\n",
    "tot = 0\n",
    "\n",
    "\n",
    "plt.figure(figsize=(7,5))\n",
    "\n",
    "for i in range(n):\n",
    "    a, end = EuMaR(f, lamb, X0, lamb0, r=r[i], params=params, tend=tend, steps=int(tend/dt), sigma=sigma)\n",
    "\n",
    "    plt.plot(t[:end], a[1:end+1], linewidth = 3)\n",
    "\n",
    "    if end < int(tend/dt):\n",
    "        tot += 1\n",
    "\n",
    "print(tot/n)\n",
    "\n",
    "plt.ylabel('x', rotation=0, fontsize=20)\n",
    "plt.xlabel('t', fontsize=20)\n",
    "plt.axvline(alpha=0.2, color='k')\n",
    "plt.axhline(alpha=0.2, color='k')\n",
    "plt.xticks(fontsize=15) \n",
    "plt.yticks(fontsize=15)\n",
    "# plt.xlim(-7,10)\n",
    "plt.ylim(top=tend/10)\n",
    "\n",
    "\n",
    "#plt.savefig('r_tipping_part2.pdf', dpi=300)\n",
    "\n",
    "plt.show()"
   ]
  },
  {
   "cell_type": "code",
   "execution_count": 281,
   "id": "d0abf761-4bb6-4da2-8b49-f292271dcfe1",
   "metadata": {
    "tags": []
   },
   "outputs": [
    {
     "data": {
      "image/png": "[encoded data removed]",
      "text/plain": [
       "<Figure size 504x360 with 1 Axes>"
      ]
     },
     "metadata": {
      "needs_background": "light"
     },
     "output_type": "display_data"
    }
   ],
   "source": [
    "n = 100\n",
    "sigma = 0.0\n",
    "\n",
    "X0 = 0\n",
    "lamb0 = 0\n",
    "mu = 1.5\n",
    "r = np.linspace(1.51,1.55,n)\n",
    "\n",
    "m = 1000\n",
    "trange = np.linspace(3,30,m)\n",
    "dt = 0.1\n",
    "\n",
    "params = np.array([lamb0, mu])\n",
    "\n",
    "tippers = np.zeros((m))\n",
    "\n",
    "for j in range(m):\n",
    "    for i in range(n):\n",
    "        steps = int(trange[j]/dt)\n",
    "        a, end = EuMaR(f, lamb, X0, lamb0, r=r[i], params=params, tend=trange[j], steps=int(trange[j]/dt), sigma=sigma)\n",
    "\n",
    "        #print(end)\n",
    "        if end < steps-1:\n",
    "            tippers[j] += 1 \n",
    "\n",
    "tippers[j] *= 100/n\n",
    "        \n",
    "plt.figure(figsize=(7,5))\n",
    "plt.plot(trange, tippers, 'k.')\n",
    "\n",
    "plt.ylabel('% which tip', fontsize=20)\n",
    "plt.xlabel('t', fontsize=20)\n",
    "plt.axvline(alpha=0.2, color='k')\n",
    "plt.axhline(alpha=0.2, color='k')\n",
    "plt.xticks(np.linspace(3,30,10),fontsize=15) \n",
    "plt.yticks(fontsize=15)\n",
    "plt.xlim(left=-0.1)\n",
    "plt.ylim(-10,110)\n",
    "\n",
    "#plt.savefig('r_tipping_percent1.pdf', dpi=300, bbox_inches=\"tight\")\n",
    "\n",
    "plt.show()"
   ]
  },
  {
   "cell_type": "code",
   "execution_count": 305,
   "id": "85e6980a-247f-4896-9731-b168350f8b70",
   "metadata": {},
   "outputs": [
    {
     "data": {
      "image/png": "[encoded data removed]",
      "text/plain": [
       "<Figure size 504x360 with 1 Axes>"
      ]
     },
     "metadata": {
      "needs_background": "light"
     },
     "output_type": "display_data"
    }
   ],
   "source": [
    "n = 100\n",
    "sigma = 0.005\n",
    "\n",
    "X0 = 0\n",
    "lamb0 = 0\n",
    "mu = 1.5\n",
    "r = np.linspace(1.51,1.55,n)\n",
    "\n",
    "m = 10\n",
    "trange = np.linspace(3,30,m)\n",
    "dt = 0.1\n",
    "\n",
    "params = np.array([lamb0, mu])\n",
    "\n",
    "\n",
    "samples = 50\n",
    "tippers = np.zeros((m,samples))\n",
    "\n",
    "for j in range(m):\n",
    "    for i in range(n):\n",
    "        for k in range(samples):\n",
    "            steps = int(trange[j]/dt)\n",
    "            a, end = EuMaR(f, lamb, X0, lamb0, r=r[i], params=params, tend=trange[j], steps=int(trange[j]/dt), sigma=sigma)\n",
    "\n",
    "            if end < steps-1:\n",
    "                tippers[j,k] += 1 \n",
    "    \n",
    "    \n",
    "tippers *= 100/n\n",
    "plt.figure(figsize=(7,5))\n",
    "plt.boxplot([tippers[0],\n",
    "             tippers[1],\n",
    "             tippers[2],\n",
    "             tippers[3],\n",
    "             tippers[4],\n",
    "             tippers[5],\n",
    "             tippers[6],\n",
    "             tippers[7],\n",
    "             tippers[8],\n",
    "             tippers[9]], patch_artist=True, boxprops=dict(facecolor='0.8', color='k'), medianprops=dict(color='k'))\n",
    "\n",
    "plt.ylabel('% which tip', fontsize=20)\n",
    "plt.xlabel('t', fontsize=20)\n",
    "plt.axvline(alpha=0.2, color='k')\n",
    "plt.axhline(alpha=0.2, color='k')\n",
    "plt.xticks(ticks=[1,2,3,4,5,6,7,8,9,10], labels=trange.astype(int), fontsize=15)\n",
    "plt.yticks(fontsize=15)\n",
    "plt.xlim(left=-0.1)\n",
    "plt.ylim(-10,110)\n",
    "\n",
    "#plt.savefig('r_tipping_percent2.pdf', dpi=300, bbox_inches=\"tight\")\n",
    "\n",
    "plt.show()"
   ]
  },
  {
   "cell_type": "markdown",
   "id": "a834107b-203e-4de6-8907-90e1d19205d1",
   "metadata": {},
   "source": [
    "# Generating R-tipping solutions"
   ]
  },
  {
   "cell_type": "markdown",
   "id": "86bf1f14-f42b-4f00-a637-425f92c57d5b",
   "metadata": {},
   "source": [
    "Follow mostly the same format as B-tipping"
   ]
  },
  {
   "cell_type": "code",
   "execution_count": 315,
   "id": "c64a74d2",
   "metadata": {},
   "outputs": [
    {
     "data": {
      "text/plain": [
       "629.0"
      ]
     },
     "execution_count": 315,
     "metadata": {},
     "output_type": "execute_result"
    }
   ],
   "source": [
    "P = 1000 ## No. of samples\n",
    "\n",
    "## Initial parameters\n",
    "X0 = 0\n",
    "lamb0 = 0\n",
    "mu = 1.5\n",
    "params = np.array([lamb0, mu])\n",
    "\n",
    "## Define r range\n",
    "r = np.linspace(1.51,1.55,P)\n",
    "\n",
    "## Amount of noise in system\n",
    "sigma = 0.005\n",
    "\n",
    "\n",
    "tend = 100\n",
    "dt = 0.1\n",
    "steps = int(tend/dt)\n",
    "\n",
    "## Initialise data array\n",
    "data = np.zeros((P, steps+1))\n",
    "\n",
    "## Generate systems\n",
    "for i in range(P):\n",
    "    data[i,1:], end = EuMaR(f, lamb, X0, lamb0, r=r[i], params=params, tend=tend, steps=steps, sigma=sigma)\n",
    "    if end < steps-1:\n",
    "        data[i,0] = 1\n",
    "\n",
    "sum(data[:,0])"
   ]
  },
  {
   "cell_type": "markdown",
   "id": "47ac1b8e-dc15-445a-84de-dbd5688dd1d8",
   "metadata": {},
   "source": [
    "Saves solutions for `Deep Learning.ipynb`"
   ]
  },
  {
   "cell_type": "code",
   "execution_count": null,
   "id": "8e334722-11fa-4de8-a920-6d2c0ed8b7fd",
   "metadata": {},
   "outputs": [],
   "source": [
    "#np.savetxt(\"data_rtip.csv\", data, delimiter=',')"
   ]
  },
  {
   "cell_type": "markdown",
   "id": "750442f1-a475-427b-b733-6ec501937848",
   "metadata": {},
   "source": [
    "Interactable widget for user to look at solutions"
   ]
  },
  {
   "cell_type": "code",
   "execution_count": 313,
   "id": "66717de0",
   "metadata": {},
   "outputs": [
    {
     "data": {
      "application/vnd.jupyter.widget-view+json": {
       "model_id": "e80155bf9a0840229c52fefec6c07657",
       "version_major": 2,
       "version_minor": 0
      },
      "text/plain": [
       "interactive(children=(IntSlider(value=499, description='k', max=999), Output()), _dom_classes=('widget-interac…"
      ]
     },
     "metadata": {},
     "output_type": "display_data"
    }
   ],
   "source": [
    "@interact(k=(0,len(data)-1,1))\n",
    "def g(k):\n",
    "    plt.plot(data[k,1:])\n",
    "    plt.show()"
   ]
  }
 ],
 "metadata": {
  "kernelspec": {
   "display_name": "Python 3 (ipykernel)",
   "language": "python",
   "name": "python3"
  },
  "language_info": {
   "codemirror_mode": {
    "name": "ipython",
    "version": 3
   },
   "file_extension": ".py",
   "mimetype": "text/x-python",
   "name": "python",
   "nbconvert_exporter": "python",
   "pygments_lexer": "ipython3",
   "version": "3.9.7"
  }
 },
 "nbformat": 4,
 "nbformat_minor": 5
}
