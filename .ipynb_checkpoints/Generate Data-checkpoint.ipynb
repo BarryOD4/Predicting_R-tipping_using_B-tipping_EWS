{
 "cells": [
  {
   "cell_type": "markdown",
   "metadata": {},
   "source": [
    "Begin by importing necessary libraries."
   ]
  },
  {
   "cell_type": "code",
   "execution_count": 1,
   "metadata": {},
   "outputs": [],
   "source": [
    "import numpy as np\n",
    "import matplotlib.pyplot as plt"
   ]
  },
  {
   "cell_type": "markdown",
   "metadata": {},
   "source": [
    "Define numerical methods to solve ODEs"
   ]
  },
  {
   "cell_type": "code",
   "execution_count": 2,
   "metadata": {},
   "outputs": [],
   "source": [
    "def EulerM(func, X0, params=None, tstart=0, tend=1, steps=10):\n",
    "    \"\"\"\n",
    "    Euler Method for solving ODEs.\n",
    "    \n",
    "    func := function, ex.dx/dt = ax + b == params[0] * x + params[1],\n",
    "    X0 := float, initial position,\n",
    "    params := array, list of parameters for func,\n",
    "    tstart / tend := float, starting time / ending time,\n",
    "    steps := int, no. of iterations.\n",
    "    \"\"\"\n",
    "    \n",
    "    ## Initialise time vector\n",
    "    ##  Calculate dt for Euler Method\n",
    "    t = np.linspace(tstart,tend,steps)\n",
    "    dt = abs(t[0]-t[1])\n",
    "    \n",
    "    ## Init. solution vector.\n",
    "    ##  set initial value\n",
    "    sol = np.zeros([steps])\n",
    "    sol[0] = X0\n",
    "    \n",
    "    ## Begin Euler method\n",
    "    for i in range(1, steps):\n",
    "        temp = sol[i-1] + func(sol[i-1], t=t[i], params=params) * dt\n",
    "        \n",
    "        ## Attempt to remedy float overflow\n",
    "        if abs(temp) > 1E6:\n",
    "            break\n",
    "        \n",
    "        sol[i] = temp\n",
    "\n",
    "    ## Return Euler solution to ODE\n",
    "    return sol, i\n",
    "        \n",
    "\n",
    "def EuMa(func, X0, params=None, tstart=0, tend=1, steps=10, sigma = 3):\n",
    "    \"\"\"\n",
    "    Euler-Maruyama Method for solving SDEs.\n",
    "    \n",
    "    func := function, ex.dx/dt = ax + b == params[0] * x + params[1],\n",
    "    X0 := float, initial position,\n",
    "    params := array, list of parameters for func,\n",
    "    tstart / tend := float, starting time / ending time,\n",
    "    steps := int, no. of iterations,\n",
    "    sigma := float, scale for amount of noise in system.\n",
    "    \"\"\"\n",
    "    \n",
    "    ## Initialise time vector\n",
    "    ##  Calculate dt for Euler Method\n",
    "    t = np.linspace(tstart,tend,steps)\n",
    "    dt = abs(t[0]-t[1])\n",
    "    \n",
    "    ## Init. solution vector.\n",
    "    ##  set initial value\n",
    "    sol = np.zeros([steps])\n",
    "    sol[0] = X0\n",
    "    \n",
    "    ## Begin Euler-Maruyama method\n",
    "    for i in range(1, steps):\n",
    "        temp = sol[i-1] + func(sol[i-1], t=t[i], params=params) * dt + sigma * np.random.random() * (np.random.randint(0,1)*2-1)\n",
    "        \n",
    "        ## Attempt to remedy float overflow\n",
    "        if abs(temp) > 1E6:\n",
    "            break\n",
    "        \n",
    "        sol[i] = temp\n",
    "    \n",
    "    ## Return Euler-Maruyama solution to SDE\n",
    "    return sol, i"
   ]
  },
  {
   "cell_type": "markdown",
   "metadata": {},
   "source": [
    "For checking if bifurcation will occur in system, need to check where fixed points of system are"
   ]
  },
  {
   "cell_type": "code",
   "execution_count": 3,
   "metadata": {},
   "outputs": [],
   "source": [
    "def fp_cubic(params):\n",
    "    \"\"\"\n",
    "    Finds fixed point of cubic polynomial.\n",
    "    \n",
    "    params := array, list of parameters.\n",
    "    \n",
    "    ax^3 + bx^2 + cx + d\n",
    "    a = params[0]\n",
    "    b = params[1]\n",
    "    etc...\n",
    "    \n",
    "    \"\"\"\n",
    "    ## Organises params for easier reading\n",
    "    a = params[0]\n",
    "    b = params[1]\n",
    "    c = params[2]\n",
    "    \n",
    "    ## Uses numpy roots() to get roots of\n",
    "    ##  of cubic derivative\n",
    "    vals = np.roots([3*a, 2*b, c])\n",
    "    \n",
    "    ## Assigns left peak to xL\n",
    "    ##  and right peak to xR\n",
    "    xL = min(vals)\n",
    "    xR = max(vals)\n",
    "    \n",
    "    return xL, xR"
   ]
  },
  {
   "cell_type": "code",
   "execution_count": 4,
   "metadata": {},
   "outputs": [],
   "source": [
    "def get_b(a,c,fold=True):\n",
    "    \"\"\"\n",
    "    Obtains values for parameter 'b' depending on whether\n",
    "     user requires a fold bifurcation to occur or not.\n",
    "     \n",
    "    a,c := float, paramater for ODE,\n",
    "    fold := bool, decides whether fold will occur or not.\n",
    "    \n",
    "    Discussed more at length in thesis (see Section: Tipping Points).\n",
    "    \"\"\"\n",
    "    \n",
    "    if fold == True:\n",
    "        if c >= 0:\n",
    "            return np.random.random() * (np.random.randint(0,1)*2-1)\n",
    "        else:\n",
    "            return (np.sqrt(3*a*c) * (1 + np.random.random())) * (np.random.randint(0,1)*2-1)\n",
    "    else:\n",
    "        return  np.random.random() * np.sqrt(3*a*c) * (np.random.randint(0,1)*2-1)"
   ]
  },
  {
   "cell_type": "code",
   "execution_count": 5,
   "metadata": {},
   "outputs": [],
   "source": [
    "def gen_params(scale=1, fold=True):\n",
    "    \"\"\"\n",
    "    Generates set of parameters for an ODE which does or\n",
    "     does not contain a fold bifurcation depending on 'fold' value\n",
    "     \n",
    "    scale := float, determines the scale of the parameters.\n",
    "    \n",
    "    !!!WARNING!!! large scale values may cause double scalar error\n",
    "                EuMa() has been adapted to avoid this but does not \n",
    "                get every case.\n",
    "    \"\"\"\n",
    "    \n",
    "    ## Set a<0 as it is the ideal case\n",
    "    ##  we are analysing\n",
    "    a = - np.random.random() * scale\n",
    "    \n",
    "    ## Checks if we need fold or not\n",
    "    ##  Discussed in thesis in more depth\n",
    "    if fold == True:\n",
    "        c = np.random.random() * (np.random.randint(0,1)*2-1) * scale\n",
    "    else:\n",
    "        c = - np.random.random() * scale\n",
    "        \n",
    "    b = get_b(a, c, fold=fold)\n",
    "    \n",
    "    ## Returns parameter array for cubic.\n",
    "    ##  Sets 'd=0' as it is a variable.\n",
    "    return np.array([a,b,c,0])"
   ]
  },
  {
   "cell_type": "code",
   "execution_count": 6,
   "metadata": {},
   "outputs": [],
   "source": [
    "def check_bifur(func, params, d_range, tol=0.9):\n",
    "    \"\"\"\n",
    "    Checks system for bifurcations in cubic system\n",
    "     in some range of values.\n",
    "    \n",
    "    func := function, ex.dx/dt = ax + b == params[0] * x + params[1],\n",
    "    params := array, list of parameters for func,\n",
    "    d_range := array, range of values for bifurcation variable 'd'    \n",
    "    \"\"\"\n",
    "    \n",
    "    xmin, xmax = fp_cubic(params)\n",
    "    \n",
    "    if np.iscomplex(xmin) == True or np.iscomplex(xmax) == True:\n",
    "        return 0\n",
    "    \n",
    "    elif d_range[0]*(1+tol) < func(xmin, 0, params):\n",
    "        return 1\n",
    "    \n",
    "    else:\n",
    "        return 0"
   ]
  },
  {
   "cell_type": "code",
   "execution_count": 7,
   "metadata": {},
   "outputs": [],
   "source": [
    "## Defining cubic polynomial for ODE dx/dt\n",
    "\n",
    "f = lambda x,t,params: params[0] * x**3 + params[1] * x**2 + params[2] * x + params[3]"
   ]
  },
  {
   "cell_type": "code",
   "execution_count": 8,
   "metadata": {},
   "outputs": [
    {
     "name": "stdout",
     "output_type": "stream",
     "text": [
      " Iteration  25  out of  25"
     ]
    },
    {
     "data": {
      "image/png": "[encoded data removed]",
      "text/plain": [
       "<Figure size 648x504 with 1 Axes>"
      ]
     },
     "metadata": {
      "needs_background": "light"
     },
     "output_type": "display_data"
    }
   ],
   "source": [
    "## Begin generating data\n",
    "P = 25  ## no. of samples (P + P amount of samples)\n",
    "M = 1000 ## no. of steps in solving ODE over time\n",
    "N = 200  ## no. of steps in solving ODE for one time step\n",
    "sample = 10 ## no. of samples taken from end of time step\n",
    "\n",
    "## Hyper parameters for generating data\n",
    "sigma = 0.06 ## Amount of noise\n",
    "scale = 3 ## Scale of parameters\n",
    "d_range = [-7,10] ## Range of bifur. param\n",
    "\n",
    "## Constructs data array for bifurcation samples\n",
    "data = np.zeros((P,M+1))\n",
    "\n",
    "## Constructs lin-spaced d values used at each time step\n",
    "d = np.linspace(d_range[0],d_range[1],M)\n",
    "\n",
    "## Begins data generation process\n",
    "for j in range(P):\n",
    "    \n",
    "    ## Generates params\n",
    "    params = gen_params(scale, fold=True)\n",
    "    \n",
    "    ## Checks if ODE will bifurcate in this region\n",
    "    data[j,0] = check_bifur(f,params,d_range,tol=0.7)\n",
    "    X0 = 0\n",
    "    for i in range(1,M+1):\n",
    "        params[-1] = d[i-1]\n",
    "        sol, n = EuMa(f, X0=X0, steps = N, params=params, sigma=sigma)\n",
    "        \n",
    "        if n > sample:\n",
    "            data[j,i] = np.mean(sol[-sample:])\n",
    "        else:\n",
    "            data[j,i] = np.mean(sol[:n])\n",
    "        \n",
    "        X0 = data[j,i]\n",
    "    \n",
    "    print('\\r', 'Iteration ', j+1, ' out of ', P, end='')\n",
    "    \n",
    "x = np.linspace(data[0,0],data[0,-1],M)\n",
    "\n",
    "plt.figure(figsize=(9,7))\n",
    "plt.plot(d,data[0,1:], 'r', label=\"x(d)\")\n",
    "plt.xlabel('d (Bifurcation variable)')\n",
    "plt.ylabel('x')\n",
    "plt.legend()\n",
    "plt.show()"
   ]
  },
  {
   "cell_type": "code",
   "execution_count": 9,
   "metadata": {},
   "outputs": [
    {
     "name": "stdout",
     "output_type": "stream",
     "text": [
      " Iteration  25  out of  25"
     ]
    },
    {
     "data": {
      "image/png": "[encoded data removed]",
      "text/plain": [
       "<Figure size 648x504 with 1 Axes>"
      ]
     },
     "metadata": {
      "needs_background": "light"
     },
     "output_type": "display_data"
    }
   ],
   "source": [
    "## Repeat above cell but for non-tipping solutions\n",
    "\n",
    "f = lambda x,t,params: params[0] * x**3 + params[1] * x**2 + params[2] * x + params[3]\n",
    "\n",
    "data1 = np.zeros((P,M+1))\n",
    "\n",
    "for j in range(P):\n",
    "    params = gen_params(scale, fold=False)\n",
    "    data1[j,0] = check_bifur(f,params,d_range)\n",
    "    X0=-7\n",
    "    for i in range(1,M+1):\n",
    "        params[-1] = d[i-1]\n",
    "        sol, n = EuMa(f, X0=X0, steps = N, params=params, sigma=sigma)\n",
    "        \n",
    "        if n > sample:\n",
    "            data1[j,i] = np.mean(sol[-sample:])\n",
    "        else:\n",
    "            data1[j,i] = np.mean(sol[:n])\n",
    "        \n",
    "        \n",
    "        X0 = data1[j,i]\n",
    "        \n",
    "    print('\\r', 'Iteration ', j+1, ' out of ', P, end='')\n",
    "    \n",
    "    \n",
    "plt.figure(figsize=(9,7))\n",
    "plt.plot(d,data1[0,1:], 'r', label=\"x(d)\")\n",
    "plt.xlabel('d (Bifurcation variable)')\n",
    "plt.ylabel('x')\n",
    "plt.legend()\n",
    "plt.show()"
   ]
  },
  {
   "cell_type": "code",
   "execution_count": 10,
   "metadata": {},
   "outputs": [],
   "source": [
    "# dataset = np.array([data, data1])\n",
    "# dataset = np.reshape(dataset, (data.shape[0] + data1.shape[0], data.shape[1]))\n",
    "\n",
    "# np.savetxt(\"dataset.csv\", dataset, delimiter=',')"
   ]
  },
  {
   "cell_type": "code",
   "execution_count": 11,
   "metadata": {},
   "outputs": [],
   "source": [
    "# np.savetxt(\"dataset_part1.csv\", data, delimiter=',')\n",
    "# np.savetxt(\"dataset_part2.csv\", data1, delimiter=',')"
   ]
  }
 ],
 "metadata": {
  "kernelspec": {
   "display_name": "Python 3 (ipykernel)",
   "language": "python",
   "name": "python3"
  },
  "language_info": {
   "codemirror_mode": {
    "name": "ipython",
    "version": 3
   },
   "file_extension": ".py",
   "mimetype": "text/x-python",
   "name": "python",
   "nbconvert_exporter": "python",
   "pygments_lexer": "ipython3",
   "version": "3.9.7"
  }
 },
 "nbformat": 4,
 "nbformat_minor": 4
}
